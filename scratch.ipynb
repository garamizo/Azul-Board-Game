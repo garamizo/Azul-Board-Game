{
 "cells": [
  {
   "cell_type": "code",
   "execution_count": 8,
   "metadata": {},
   "outputs": [
    {
     "data": {
      "text/plain": [
       "(169, 99.5)"
      ]
     },
     "execution_count": 8,
     "metadata": {},
     "output_type": "execute_result"
    }
   ],
   "source": [
    "%load_ext autoreload\n",
    "%autoreload 2\n",
    "import numpy as np\n",
    "# import azul.tictactoe as logic \n",
    "import azul.logic as logic\n",
    "import azul.ai as ai\n",
    "from random import choice \n",
    "\n",
    "# state = {'factory': [[], [], [], [], [], [], []], 'center': [], 'player': [{'grid': [[1, 2, 3, 4, 5], [0, 0, 2, 3, 4], [4, 0, 1, 2, 3], [3, 0, 5, 0, 0], [0, 0, 4, 0, 0]], 'line': [[], [5], [], [1, 1], []], 'score': 43, 'floor': []}, {'grid': [[1, 2, 3, 4, 5], [5, 1, 2, 3, 0], [4, 5, 1, 2, 0], [0, 0, 5, 0, 0], [0, 0, 0, 0, 0]], 'line': [[], [], [], [4], [4, 4, 4, 4]], 'score': 41, 'floor': []}, {'grid': [[1, 2, 3, 4, 0], [5, 1, 2, 3, 4], [0, 0, 0, 2, 3], [0, 0, 0, 0, 2], [0, 0, 0, 0, 0]], 'line': [[], [], [1, 1], [1, 1, 1], [1, 1, 1, 1]], 'score': 21, 'floor': []}], 'activePlayer': 2, 'roundIdx': 5}\n",
    "\n",
    "state = logic.reset_round(2)\n",
    "root = ai.MCTS_node(state)\n",
    "\n",
    "root.grow_while(10)\n",
    "action, idx = root.get_best_action()\n",
    "root.child[idx].numRolls, root.child[idx].numWins"
   ]
  },
  {
   "cell_type": "code",
   "execution_count": 14,
   "metadata": {},
   "outputs": [
    {
     "data": {
      "text/plain": [
       "(8.75, 15)"
      ]
     },
     "execution_count": 14,
     "metadata": {},
     "output_type": "execute_result"
    }
   ],
   "source": [
    "state = logic.reset_round(numPlayers=2)\n",
    "root = ai.MCTS_node(state)\n",
    "\n",
    "root.grow_while(10)\n",
    "action, idx = root.get_best_action()\n",
    "root.child[idx].numWins, root.child[idx].numRolls  # 13, 15, 15"
   ]
  },
  {
   "cell_type": "code",
   "execution_count": 1,
   "metadata": {},
   "outputs": [
    {
     "ename": "ModuleNotFoundError",
     "evalue": "No module named 'logic_wrapper'",
     "output_type": "error",
     "traceback": [
      "\u001b[0;31m---------------------------------------------------------------------------\u001b[0m",
      "\u001b[0;31mModuleNotFoundError\u001b[0m                       Traceback (most recent call last)",
      "\u001b[1;32m/home/garamizo/Azul-Board-Game/scratch.ipynb Cell 3\u001b[0m line \u001b[0;36m5\n\u001b[1;32m      <a href='vscode-notebook-cell:/home/garamizo/Azul-Board-Game/scratch.ipynb#W2sZmlsZQ%3D%3D?line=2'>3</a>\u001b[0m \u001b[39mimport\u001b[39;00m \u001b[39mnumpy\u001b[39;00m \u001b[39mas\u001b[39;00m \u001b[39mnp\u001b[39;00m\n\u001b[1;32m      <a href='vscode-notebook-cell:/home/garamizo/Azul-Board-Game/scratch.ipynb#W2sZmlsZQ%3D%3D?line=3'>4</a>\u001b[0m \u001b[39mimport\u001b[39;00m \u001b[39mazul\u001b[39;00m\u001b[39m.\u001b[39;00m\u001b[39mlogic_wrapper\u001b[39;00m \u001b[39mas\u001b[39;00m \u001b[39mlogic\u001b[39;00m\n\u001b[0;32m----> <a href='vscode-notebook-cell:/home/garamizo/Azul-Board-Game/scratch.ipynb#W2sZmlsZQ%3D%3D?line=4'>5</a>\u001b[0m \u001b[39mimport\u001b[39;00m \u001b[39mazul\u001b[39;00m\u001b[39m.\u001b[39;00m\u001b[39mai_wrapper\u001b[39;00m \u001b[39mas\u001b[39;00m \u001b[39mai\u001b[39;00m\n\u001b[1;32m      <a href='vscode-notebook-cell:/home/garamizo/Azul-Board-Game/scratch.ipynb#W2sZmlsZQ%3D%3D?line=6'>7</a>\u001b[0m \u001b[39m# state = {'factory': [[], [], [], [], [], [], []], 'center': [], 'player': [{'grid': [[1, 2, 3, 4, 5], [0, 0, 2, 3, 4], [4, 0, 1, 2, 3], [3, 0, 5, 0, 0], [0, 0, 4, 0, 0]], 'line': [[], [5], [], [1, 1], []], 'score': 43, 'floor': []}, {'grid': [[1, 2, 3, 4, 5], [5, 1, 2, 3, 0], [4, 5, 1, 2, 0], [0, 0, 5, 0, 0], [0, 0, 0, 0, 0]], 'line': [[], [], [], [4], [4, 4, 4, 4]], 'score': 41, 'floor': []}, {'grid': [[1, 2, 3, 4, 0], [5, 1, 2, 3, 4], [0, 0, 0, 2, 3], [0, 0, 0, 0, 2], [0, 0, 0, 0, 0]], 'line': [[], [], [1, 1], [1, 1, 1], [1, 1, 1, 1]], 'score': 21, 'floor': []}], 'activePlayer': 2, 'roundIdx': 5}\u001b[39;00m\n\u001b[1;32m      <a href='vscode-notebook-cell:/home/garamizo/Azul-Board-Game/scratch.ipynb#W2sZmlsZQ%3D%3D?line=7'>8</a>\u001b[0m \n\u001b[1;32m      <a href='vscode-notebook-cell:/home/garamizo/Azul-Board-Game/scratch.ipynb#W2sZmlsZQ%3D%3D?line=8'>9</a>\u001b[0m \u001b[39m# state = logic.reset_round(2)\u001b[39;00m\n\u001b[1;32m     <a href='vscode-notebook-cell:/home/garamizo/Azul-Board-Game/scratch.ipynb#W2sZmlsZQ%3D%3D?line=9'>10</a>\u001b[0m state \u001b[39m=\u001b[39m logic\u001b[39m.\u001b[39mTable()\n",
      "File \u001b[0;32m~/Azul-Board-Game/azul/ai_wrapper.py:1\u001b[0m\n\u001b[0;32m----> 1\u001b[0m \u001b[39mfrom\u001b[39;00m \u001b[39mlogic_wrapper\u001b[39;00m \u001b[39mimport\u001b[39;00m Table\n\u001b[1;32m      2\u001b[0m \u001b[39mimport\u001b[39;00m \u001b[39mpythonnet\u001b[39;00m\n\u001b[1;32m      3\u001b[0m pythonnet\u001b[39m.\u001b[39mload(\u001b[39m\"\u001b[39m\u001b[39mcoreclr\u001b[39m\u001b[39m\"\u001b[39m)  \u001b[39m# to use dotnet rather than mono\u001b[39;00m\n",
      "\u001b[0;31mModuleNotFoundError\u001b[0m: No module named 'logic_wrapper'"
     ]
    }
   ],
   "source": [
    "%load_ext autoreload\n",
    "%autoreload 2\n",
    "import numpy as np\n",
    "import azul.logic_wrapper as logic\n",
    "import azul.ai_wrapper as ai\n",
    "\n",
    "# state = {'factory': [[], [], [], [], [], [], []], 'center': [], 'player': [{'grid': [[1, 2, 3, 4, 5], [0, 0, 2, 3, 4], [4, 0, 1, 2, 3], [3, 0, 5, 0, 0], [0, 0, 4, 0, 0]], 'line': [[], [5], [], [1, 1], []], 'score': 43, 'floor': []}, {'grid': [[1, 2, 3, 4, 5], [5, 1, 2, 3, 0], [4, 5, 1, 2, 0], [0, 0, 5, 0, 0], [0, 0, 0, 0, 0]], 'line': [[], [], [], [4], [4, 4, 4, 4]], 'score': 41, 'floor': []}, {'grid': [[1, 2, 3, 4, 0], [5, 1, 2, 3, 4], [0, 0, 0, 2, 3], [0, 0, 0, 0, 2], [0, 0, 0, 0, 0]], 'line': [[], [], [1, 1], [1, 1, 1], [1, 1, 1, 1]], 'score': 21, 'floor': []}], 'activePlayer': 2, 'roundIdx': 5}\n",
    "\n",
    "# state = logic.reset_round(2)\n",
    "state = logic.Table()\n",
    "root = ai.MCTS_node(state)\n",
    "root.grow_while(1)\n",
    "# action, idx = root.get_best_action()\n",
    "# root.child[idx].numRolls, root.child[idx].numWins"
   ]
  },
  {
   "cell_type": "code",
   "execution_count": 5,
   "metadata": {},
   "outputs": [
    {
     "data": {
      "text/plain": [
       "(((5, 5, 0), 40), 855)"
      ]
     },
     "execution_count": 5,
     "metadata": {},
     "output_type": "execute_result"
    }
   ],
   "source": [
    "root.get_best_action(), root.numRolls"
   ]
  },
  {
   "cell_type": "code",
   "execution_count": 6,
   "metadata": {},
   "outputs": [
    {
     "data": {
      "text/plain": [
       "(([5, 5, 3], 117), 882)"
      ]
     },
     "execution_count": 6,
     "metadata": {},
     "output_type": "execute_result"
    }
   ],
   "source": [
    "import azul.logic as logic_old\n",
    "import azul.ai as ai_old\n",
    "\n",
    "root2 = ai_old.MCTS_node(state.get_observation())\n",
    "\n",
    "root2.grow_while(10)\n",
    "root2.get_best_action(), root2.numRolls"
   ]
  },
  {
   "cell_type": "code",
   "execution_count": 17,
   "metadata": {},
   "outputs": [
    {
     "data": {
      "text/plain": [
       "(([2, 2, 3], 45), 866)"
      ]
     },
     "execution_count": 17,
     "metadata": {},
     "output_type": "execute_result"
    }
   ],
   "source": []
  },
  {
   "cell_type": "code",
   "execution_count": 1,
   "metadata": {},
   "outputs": [],
   "source": [
    "import pythonnet\n",
    "# print(get_runtime_info())  # should be dotnet\n",
    "pythonnet.load(\"coreclr\")  # to use dotnet rather than mono\n",
    "\n",
    "import clr\n",
    "import sys\n",
    "sys.path.append(r\"AzulLibrary/bin/Debug/net6.0\")\n",
    "\n",
    "clr.AddReference('AzulLibrary') #add .dll file\n",
    "from Azul import Game\n",
    "from Ai import MCTS"
   ]
  },
  {
   "cell_type": "code",
   "execution_count": 2,
   "metadata": {},
   "outputs": [
    {
     "data": {
      "text/plain": [
       "(13.000000953674316, 15)"
      ]
     },
     "execution_count": 2,
     "metadata": {},
     "output_type": "execute_result"
    }
   ],
   "source": [
    "state = Game(2)\n",
    "root = MCTS(state)\n",
    "\n",
    "root.GrowWhile(1.0)\n",
    "result = root.GetBestAction()\n",
    "\n",
    "root.childs[result].numWins, root.childs[result].numRolls  # 296, 535, 338"
   ]
  },
  {
   "cell_type": "code",
   "execution_count": 3,
   "metadata": {},
   "outputs": [
    {
     "data": {
      "text/plain": [
       "([0], [[1, 1, 3, 4], [1, 2, 4, 5], [2, 2, 4, 5], [3, 4, 4, 5], [1, 1, 4, 4]])"
      ]
     },
     "execution_count": 3,
     "metadata": {},
     "output_type": "execute_result"
    }
   ],
   "source": [
    "import numpy as np \n",
    "\n",
    "factory = []\n",
    "for factoryi in state.factories:\n",
    "    fac = []\n",
    "    for color, count in enumerate(factoryi):\n",
    "        fac += [(color+1) % 6]*count\n",
    "    factory.append(fac)\n",
    "\n",
    "center, factory = factory[0], factory[1:]\n",
    "\n",
    "center, factory"
   ]
  },
  {
   "cell_type": "code",
   "execution_count": 4,
   "metadata": {},
   "outputs": [
    {
     "data": {
      "text/plain": [
       "[{'grid': [[0, 0, 0, 0, 0],\n",
       "   [0, 0, 0, 0, 0],\n",
       "   [0, 0, 0, 0, 0],\n",
       "   [0, 0, 0, 0, 0],\n",
       "   [0, 0, 0, 0, 0]],\n",
       "  'line': [[], [], [], [], []],\n",
       "  'score': 0,\n",
       "  'floor': []},\n",
       " {'grid': [[0, 0, 0, 0, 0],\n",
       "   [0, 0, 0, 0, 0],\n",
       "   [0, 0, 0, 0, 0],\n",
       "   [0, 0, 0, 0, 0],\n",
       "   [0, 0, 0, 0, 0]],\n",
       "  'line': [[], [], [], [], []],\n",
       "  'score': 0,\n",
       "  'floor': []}]"
      ]
     },
     "execution_count": 4,
     "metadata": {},
     "output_type": "execute_result"
    }
   ],
   "source": [
    "NUM_ROWS = 5\n",
    "NUM_COLS = 5\n",
    "NUM_COLORS = 5\n",
    "\n",
    "players = []\n",
    "for p in state.players:\n",
    "    grid = []\n",
    "    for i in range(NUM_ROWS):\n",
    "        row = []\n",
    "        for j in range(NUM_COLS):\n",
    "            row.append(p.grid[i,j])\n",
    "        grid.append(row)\n",
    "\n",
    "    floor = []\n",
    "    for color in range(NUM_COLORS + 1):\n",
    "        floor += [(color+1) % (NUM_COLORS + 1)] * p.floor[i]\n",
    "\n",
    "    lines = []\n",
    "    for row in range(NUM_ROWS):\n",
    "        line = []\n",
    "        for color in range(NUM_COLORS):\n",
    "            line += [(color+1) % (NUM_COLORS + 1)] * p.line[row][i]\n",
    "        lines.append(line)\n",
    "    \n",
    "    player = dict(grid=grid, line=lines, score=p.score, floor=floor)\n",
    "    players.append(player)\n",
    "\n",
    "players"
   ]
  },
  {
   "cell_type": "code",
   "execution_count": 5,
   "metadata": {},
   "outputs": [
    {
     "data": {
      "text/plain": [
       "([15, 17, 18, 13, 17], [0, 0, 0, 0, 0])"
      ]
     },
     "execution_count": 5,
     "metadata": {},
     "output_type": "execute_result"
    }
   ],
   "source": [
    "bag, discard = [], []\n",
    "for color in range(NUM_COLORS):\n",
    "    bag.append(state.bag[color])\n",
    "    discard.append(state.discarded[color])\n",
    "\n",
    "bag, discard"
   ]
  },
  {
   "cell_type": "code",
   "execution_count": 7,
   "metadata": {},
   "outputs": [
    {
     "data": {
      "text/plain": [
       "False"
      ]
     },
     "execution_count": 7,
     "metadata": {},
     "output_type": "execute_result"
    }
   ],
   "source": [
    "state.IsValid(1, 1, 1) == True"
   ]
  },
  {
   "cell_type": "code",
   "execution_count": 12,
   "metadata": {},
   "outputs": [
    {
     "data": {
      "text/plain": [
       "(970, 1346)"
      ]
     },
     "execution_count": 12,
     "metadata": {},
     "output_type": "execute_result"
    }
   ],
   "source": [
    "root.childs[result].numWins, root.childs[result].numRolls"
   ]
  },
  {
   "cell_type": "code",
   "execution_count": 13,
   "metadata": {},
   "outputs": [
    {
     "name": "stdout",
     "output_type": "stream",
     "text": [
      "Round: 0\n",
      "Active player: 0\n",
      "Factory 0: 0 0 0 0 0 1 \n",
      "Factory 1: 1 1 1 1 0 0 \n",
      "Factory 2: 1 0 2 1 0 0 \n",
      "Factory 3: 1 1 1 0 1 0 \n",
      "Factory 4: 1 0 1 2 0 0 \n",
      "Factory 5: 1 1 0 1 1 0 \n",
      "Bag: 15 17 15 15 18 \n",
      "Discarded: 0 0 0 0 0 \n",
      "Player 0: -----------------\n",
      "Score: 0\n",
      "Grid:\n",
      "0 0 0 0 0 \n",
      "0 0 0 0 0 \n",
      "0 0 0 0 0 \n",
      "0 0 0 0 0 \n",
      "0 0 0 0 0 \n",
      "Line:\n",
      "0 0 0 0 0 \n",
      "0 0 0 0 0 \n",
      "0 0 0 0 0 \n",
      "0 0 0 0 0 \n",
      "0 0 0 0 0 \n",
      "Floor:\n",
      "0 0 0 0 0 0 \n",
      "Player 1: -----------------\n",
      "Score: 0\n",
      "Grid:\n",
      "0 0 0 0 0 \n",
      "0 0 0 0 0 \n",
      "0 0 0 0 0 \n",
      "0 0 0 0 0 \n",
      "0 0 0 0 0 \n",
      "Line:\n",
      "0 0 0 0 0 \n",
      "0 0 0 0 0 \n",
      "0 0 0 0 0 \n",
      "0 0 0 0 0 \n",
      "0 0 0 0 0 \n",
      "Floor:\n",
      "0 0 0 0 0 0 \n"
     ]
    }
   ],
   "source": [
    "state.factories"
   ]
  },
  {
   "cell_type": "code",
   "execution_count": 12,
   "metadata": {},
   "outputs": [
    {
     "data": {
      "text/plain": [
       "3"
      ]
     },
     "execution_count": 12,
     "metadata": {},
     "output_type": "execute_result"
    }
   ],
   "source": [
    "actions[5].row"
   ]
  },
  {
   "cell_type": "code",
   "execution_count": 1,
   "metadata": {},
   "outputs": [
    {
     "name": "stdout",
     "output_type": "stream",
     "text": [
      "Result is 3\n"
     ]
    }
   ],
   "source": [
    "import clr\n",
    "import sys\n",
    "sys.path.append(r\"AzulLibrary/bin/Debug/net6.0\")\n",
    "lb = clr.AddReference('AzulLibrary') #add .dll file\n",
    "from TestLibrary import Calculator\n",
    "\n",
    "c = Calculator()\n",
    "print(f\"Result is {c.DoSum(1,2)}\")"
   ]
  },
  {
   "cell_type": "code",
   "execution_count": 10,
   "metadata": {},
   "outputs": [
    {
     "data": {
      "text/plain": [
       "array([0.5006, 0.4994])"
      ]
     },
     "execution_count": 10,
     "metadata": {},
     "output_type": "execute_result"
    }
   ],
   "source": [
    "# %%time \n",
    "\n",
    "rewards = []\n",
    "for i in range(10):\n",
    "    state = logic.reset_round()\n",
    "    root = ai.MCTS_node(state)\n",
    "\n",
    "    for j in range(1_000):\n",
    "        rewards.append(root.rollout())\n",
    "\n",
    "np.mean(rewards, 0)"
   ]
  },
  {
   "cell_type": "code",
   "execution_count": 11,
   "metadata": {},
   "outputs": [
    {
     "data": {
      "text/plain": [
       "7.592307692307692"
      ]
     },
     "execution_count": 11,
     "metadata": {},
     "output_type": "execute_result"
    }
   ],
   "source": [
    "1_000_000 * 9.87 / 10_000 \n",
    "987 / 130"
   ]
  },
  {
   "cell_type": "code",
   "execution_count": 2,
   "metadata": {},
   "outputs": [
    {
     "name": "stdout",
     "output_type": "stream",
     "text": [
      "The autoreload extension is already loaded. To reload it, use:\n",
      "  %reload_ext autoreload\n"
     ]
    },
    {
     "data": {
      "text/plain": [
       "[0.6003649225483226, 0.29032795473010753, 0.1103006545372465]"
      ]
     },
     "execution_count": 2,
     "metadata": {},
     "output_type": "execute_result"
    }
   ],
   "source": [
    "%load_ext snakeviz\n",
    "%load_ext autoreload\n",
    "%autoreload 2\n",
    "import numpy as np\n",
    "import azul.logic as logic\n",
    "\n",
    "state = {'factory': [[], [], [], [], [], [], []], 'center': [], \n",
    "         'player': [{'grid': [[1, 0, 3, 4, 5], [0, 0, 2, 3, 4], [4, 0, 1, 2, 3], [3, 0, 5, 0, 0], [0, 0, 4, 0, 0]], 'line': [[], [5], [], [1, 1], []], 'score': 50, 'floor': []}, {'grid': [[1, 2, 0, 4, 5], [5, 1, 2, 3, 0], [4, 5, 1, 2, 0], [0, 0, 5, 0, 0], [0, 0, 0, 0, 0]], 'line': [[], [], [], [4], [4, 4, 4, 4]], 'score': 50, 'floor': []}, {'grid': [[1, 2, 3, 4, 0], [5, 1, 2, 3, 0], [0, 0, 0, 2, 3], [0, 0, 0, 0, 2], [0, 0, 0, 0, 0]], 'line': [[], [], [1, 1], [1, 1, 1], [1, 1, 1, 1]], 'score': 45, 'floor': []}], \n",
    "         'activePlayer': 2, 'roundIdx': 3, 'bag': [20]*5, 'discard': [20]*5}\n",
    "\n",
    "# logic.print_state(state)\n",
    "# logic.get_reward(logic.deepcopy(state)), \n",
    "logic.get_reward(logic.deepcopy(state))"
   ]
  },
  {
   "cell_type": "code",
   "execution_count": 15,
   "metadata": {},
   "outputs": [
    {
     "data": {
      "text/plain": [
       "([1, 1, 1], 19)"
      ]
     },
     "execution_count": 15,
     "metadata": {},
     "output_type": "execute_result"
    }
   ],
   "source": [
    "import azul.ai as ai \n",
    "\n",
    "state = logic.reset_round()\n",
    "root = ai.MCTS_node(state)\n",
    "root.grow_while(10)\n",
    "\n",
    "# root.print()\n",
    "root.get_best_action()"
   ]
  },
  {
   "cell_type": "code",
   "execution_count": 17,
   "metadata": {},
   "outputs": [
    {
     "name": "stdout",
     "output_type": "stream",
     "text": [
      "Rolls: 1, Win ratio: 0.66, Active player: 1\n",
      "\tAction\t\tUCB\tWRatio\tNumSims\n"
     ]
    },
    {
     "data": {
      "text/plain": [
       "([2, 5, -1], None)"
      ]
     },
     "execution_count": 17,
     "metadata": {},
     "output_type": "execute_result"
    }
   ],
   "source": [
    "root = ai.MCTS_node(state)\n",
    "root.grow_while(10)\n",
    "\n",
    "# root.print()\n",
    "action, idx = root.get_best_action()\n",
    "\n",
    "action, root.child[idx].print()"
   ]
  },
  {
   "cell_type": "code",
   "execution_count": 18,
   "metadata": {},
   "outputs": [
    {
     "data": {
      "text/plain": [
       "240"
      ]
     },
     "execution_count": 18,
     "metadata": {},
     "output_type": "execute_result"
    }
   ],
   "source": [
    "root.numRolls"
   ]
  },
  {
   "cell_type": "code",
   "execution_count": 6,
   "metadata": {},
   "outputs": [
    {
     "name": "stdout",
     "output_type": "stream",
     "text": [
      "Rolls: 41829, Win ratio: 0.0, Active player: 0\n",
      "\tAction\t\tUCB\tWRatio\tNumSims\n",
      "\t[0, 1, -1]\t0.77\t0.409\t163\n",
      "\t[0, 1, 0]\t0.77\t0.546\t410\n",
      "\t[0, 1, 1]\t0.77\t0.363\t127\n",
      "\t[0, 1, 2]\t0.77\t0.458\t215\n",
      "\t[0, 1, 3]\t0.77\t0.486\t260\n",
      "\t[0, 1, 4]\t0.77\t0.458\t215\n",
      "\t[0, 3, -1]\t0.77\t0.386\t143\n",
      "\t[0, 3, 0]\t0.77\t0.568\t503\n",
      "\t[0, 3, 1]\t0.77\t0.360\t125\n",
      "\t[0, 3, 2]\t0.77\t0.476\t240\n",
      "\t[0, 3, 3]\t0.77\t0.492\t268\n",
      "\t[0, 3, 4]\t0.77\t0.498\t283\n",
      "\t[0, 4, -1]\t0.77\t0.413\t164\n",
      "\t[0, 4, 0]\t0.77\t0.577\t552\n",
      "\t[0, 4, 1]\t0.77\t0.701\t4020\n",
      "\t[0, 4, 2]\t0.77\t0.536\t376\n",
      "\t[0, 4, 3]\t0.77\t0.520\t335\n",
      "\t[0, 4, 4]\t0.77\t0.507\t303\n",
      "\t[1, 2, -1]\t0.77\t0.403\t158\n",
      "\t[1, 2, 0]\t0.77\t0.575\t542\n",
      "\t[1, 2, 1]\t0.77\t0.471\t234\n",
      "\t[1, 2, 2]\t0.77\t0.478\t246\n",
      "\t[1, 2, 3]\t0.77\t0.452\t207\n",
      "\t[1, 2, 4]\t0.77\t0.476\t242\n",
      "\t[1, 3, -1]\t0.77\t0.435\t185\n",
      "\t[1, 3, 0]\t0.77\t0.558\t463\n",
      "\t[1, 3, 1]\t0.77\t0.414\t166\n",
      "\t[1, 3, 2]\t0.77\t0.465\t224\n",
      "\t[1, 3, 3]\t0.77\t0.432\t185\n",
      "\t[1, 3, 4]\t0.77\t0.492\t269\n",
      "\t[1, 4, -1]\t0.77\t0.458\t214\n",
      "\t[1, 4, 0]\t0.77\t0.550\t428\n",
      "\t[1, 4, 1]\t0.77\t0.697\t3499\n",
      "\t[1, 4, 2]\t0.77\t0.464\t223\n",
      "\t[1, 4, 3]\t0.77\t0.505\t299\n",
      "\t[1, 4, 4]\t0.77\t0.520\t332\n",
      "\t[2, 2, -1]\t0.77\t0.451\t204\n",
      "\t[2, 2, 0]\t0.77\t0.537\t380\n",
      "\t[2, 2, 1]\t0.77\t0.703\t4211\n",
      "\t[2, 2, 2]\t0.77\t0.501\t290\n",
      "\t[2, 2, 3]\t0.77\t0.500\t286\n",
      "\t[2, 2, 4]\t0.77\t0.511\t310\n",
      "\t[2, 4, -1]\t0.77\t0.434\t185\n",
      "\t[2, 4, 0]\t0.77\t0.575\t543\n",
      "\t[2, 4, 1]\t0.77\t0.345\t116\n",
      "\t[2, 4, 2]\t0.77\t0.492\t269\n",
      "\t[2, 4, 3]\t0.77\t0.486\t260\n",
      "\t[2, 4, 4]\t0.77\t0.471\t234\n",
      "\t[2, 5, -1]\t0.77\t0.403\t157\n",
      "\t[2, 5, 0]\t0.77\t0.615\t844\n",
      "\t[2, 5, 1]\t0.77\t0.444\t197\n",
      "\t[2, 5, 2]\t0.77\t0.494\t273\n",
      "\t[2, 5, 3]\t0.77\t0.435\t187\n",
      "\t[2, 5, 4]\t0.77\t0.481\t253\n",
      "\t[3, 2, -1]\t0.77\t0.409\t162\n",
      "\t[3, 2, 0]\t0.77\t0.567\t498\n",
      "\t[3, 2, 1]\t0.77\t0.688\t2939\n",
      "\t[3, 2, 2]\t0.77\t0.511\t310\n",
      "\t[3, 2, 3]\t0.77\t0.521\t338\n",
      "\t[3, 2, 4]\t0.77\t0.543\t399\n",
      "\t[3, 4, -1]\t0.77\t0.376\t136\n",
      "\t[3, 4, 0]\t0.77\t0.576\t542\n",
      "\t[3, 4, 1]\t0.77\t0.413\t164\n",
      "\t[3, 4, 2]\t0.77\t0.490\t265\n",
      "\t[3, 4, 3]\t0.77\t0.456\t214\n",
      "\t[3, 4, 4]\t0.77\t0.492\t269\n",
      "\t[3, 5, -1]\t0.77\t0.447\t201\n",
      "\t[3, 5, 0]\t0.77\t0.573\t532\n",
      "\t[3, 5, 1]\t0.77\t0.392\t147\n",
      "\t[3, 5, 2]\t0.77\t0.511\t313\n",
      "\t[3, 5, 3]\t0.77\t0.373\t133\n",
      "\t[3, 5, 4]\t0.77\t0.537\t379\n",
      "\t[4, 1, -1]\t0.77\t0.488\t261\n",
      "\t[4, 1, 0]\t0.77\t0.573\t532\n",
      "\t[4, 1, 1]\t0.77\t0.301\t96\n",
      "\t[4, 1, 2]\t0.77\t0.349\t119\n",
      "\t[4, 1, 3]\t0.77\t0.448\t202\n",
      "\t[4, 1, 4]\t0.77\t0.478\t246\n",
      "\t[4, 3, -1]\t0.77\t0.393\t148\n",
      "\t[4, 3, 0]\t0.77\t0.585\t598\n",
      "\t[4, 3, 1]\t0.77\t0.408\t161\n",
      "\t[4, 3, 2]\t0.77\t0.467\t227\n",
      "\t[4, 3, 3]\t0.77\t0.454\t209\n",
      "\t[4, 3, 4]\t0.77\t0.486\t260\n",
      "\t[4, 5, -1]\t0.77\t0.414\t165\n",
      "\t[4, 5, 0]\t0.77\t0.572\t531\n",
      "\t[4, 5, 1]\t0.77\t0.693\t3300\n",
      "\t[4, 5, 2]\t0.77\t0.513\t315\n",
      "\t[4, 5, 3]\t0.77\t0.483\t252\n",
      "\t[4, 5, 4]\t0.77\t0.481\t249\n"
     ]
    }
   ],
   "source": [
    "root.grow_while(10)\n",
    "\n",
    "root.print()"
   ]
  },
  {
   "cell_type": "code",
   "execution_count": 25,
   "metadata": {},
   "outputs": [
    {
     "data": {
      "text/plain": [
       "(4, 1, -1)"
      ]
     },
     "execution_count": 25,
     "metadata": {},
     "output_type": "execute_result"
    }
   ],
   "source": [
    "state = {'factory': [[], [], [], [], [], [], []], 'center': [], \n",
    "         'player': [{'grid': [[1, 0, 3, 4, 5], [0, 0, 2, 3, 4], [4, 0, 1, 2, 3], [3, 0, 5, 0, 0], [0, 0, 4, 0, 0]], 'line': [[], [5], [], [1, 1], []], 'score': 50, 'floor': []}, {'grid': [[1, 2, 0, 4, 5], [5, 1, 2, 3, 0], [4, 5, 1, 2, 0], [0, 0, 5, 0, 0], [0, 0, 0, 0, 0]], 'line': [[], [], [], [4], [4, 4, 4, 4]], 'score': 50, 'floor': []}, {'grid': [[1, 2, 3, 4, 0], [5, 1, 2, 3, 0], [0, 0, 0, 2, 3], [0, 0, 0, 0, 2], [0, 0, 0, 0, 0]], 'line': [[], [], [1, 1], [1, 1, 1], [1, 1, 1, 1]], 'score': 45, 'floor': []}], \n",
    "         'activePlayer': 2, 'roundIdx': 3, 'bag': [20]*5, 'discard': [20]*5}\n",
    "logic.reset_round(state)\n",
    "\n",
    "logic.get_random_action(state)"
   ]
  },
  {
   "cell_type": "code",
   "execution_count": 40,
   "metadata": {},
   "outputs": [
    {
     "data": {
      "image/png": "[encoded data removed]",
      "text/plain": [
       "<Figure size 1200x1200 with 9 Axes>"
      ]
     },
     "metadata": {},
     "output_type": "display_data"
    }
   ],
   "source": [
    "import matplotlib.pyplot as plt \n",
    "\n",
    "state = logic.reset_round()\n",
    "\n",
    "actions = np.array([logic.get_random_action(state) for _ in range(10_000)])\n",
    "# factoryIdx = [action[0] for action in actions]\n",
    "# color = [action[1] for action in actions]\n",
    "# row = [action[2] for action in actions]\n",
    "lbl = ['factoryIdx', 'color', 'row'] \n",
    "\n",
    "plt.figure(figsize=(12,12))\n",
    "for i in range(3):\n",
    "    for j in range(3):\n",
    "        plt.subplot(3,3,i*3+j+1)\n",
    "        plt.xlabel(lbl[i])\n",
    "        if i == j:\n",
    "            plt.hist(actions[:,i])\n",
    "        else:\n",
    "            plt.hist2d(actions[:,i], actions[:,j])\n",
    "            plt.ylabel(lbl[j])"
   ]
  },
  {
   "cell_type": "code",
   "execution_count": 43,
   "metadata": {},
   "outputs": [
    {
     "name": "stdout",
     "output_type": "stream",
     "text": [
      "3.57 ms ± 134 µs per loop (mean ± std. dev. of 7 runs, 100 loops each)\n"
     ]
    }
   ],
   "source": [
    "# %timeit actions = np.array([logic.get_random_action(state) for _ in range(1_000)])  # 29.8 - 29 ms, old\n",
    "%timeit actions = np.array([logic.get_random_action(state) for _ in range(1_000)])  # 3.6 - 9 ms, new\n",
    "\n",
    "{'factory': [[1, 2, 3, 4], [2, 2, 2, 1], [5, 3, 5, 3], [4, 3, 1, 5], [4, 2, 2, 3], [1, 4, 4, 1], [5, 4, 2, 5]], 'center': [-1], 'player': [{'grid': [[1, 2, 3, 0, 0], [5, 1, 2, 0, 0], [4, 5, 1, 0, 0], [3, 4, 0, 0, 0], [2, 0, 0, 0, 0]], 'line': [[], [], [], [], [4, 4, 4, 4]], 'score': 35, 'floor': []}, {'grid': [[0, 2, 3, 4, 5], [5, 1, 0, 3, 4], [0, 5, 0, 2, 3], [0, 0, 0, 0, 2], [0, 0, 0, 0, 1]], 'line': [[], [], [], [1, 1], [3, 3, 3]], 'score': 34, 'floor': []}, {'grid': [[1, 2, 3, 0, 5], [5, 1, 2, 0, 4], [4, 5, 1, 0, 3], [0, 0, 0, 0, 0], [0, 0, 0, 0, 0]], 'line': [[], [], [], [3], [5, 5, 5, 5]], 'score': 27, 'floor': []}], 'activePlayer': 1, 'roundIdx': 4, 'bag': [0, 1, 0, 2, 1], 'discard': [5, 4, 4, 2, 2]}"
   ]
  },
  {
   "cell_type": "code",
   "execution_count": 145,
   "metadata": {},
   "outputs": [
    {
     "data": {
      "text/plain": [
       "[0.15032007143019635, 0.05027288733902294, 0.8003983657822558]"
      ]
     },
     "execution_count": 145,
     "metadata": {},
     "output_type": "execute_result"
    }
   ],
   "source": [
    "# %load_ext snakeviz\n",
    "# %load_ext autoreload\n",
    "# %autoreload 2 \n",
    "\n",
    "import azul.logic as logic\n",
    "import azul.ai as ai\n",
    "# state = {'factory': [[1,2,2,3], [5,4,3,3], [1,1,1,2], [4,4,1,2], [2,3,5,1], [1,2,2,2], [1,2,4,5]], 'center': [-1], \n",
    "#          'player': [{'grid': [[1, 0, 3, 4, 5], [0, 0, 2, 3, 4], [4, 0, 1, 2, 3], [3, 0, 5, 0, 0], [0, 0, 4, 0, 0]], 'line': [[], [5], [], [1, 1], []], 'score': 43, 'floor': []}, {'grid': [[1, 2, 0, 4, 5], [5, 1, 2, 3, 0], [4, 5, 1, 2, 0], [0, 0, 5, 0, 0], [0, 0, 0, 0, 0]], 'line': [[], [], [], [4], [4, 4, 4, 4]], 'score': 41, 'floor': []}, {'grid': [[1, 2, 3, 4, 0], [5, 1, 2, 3, 0], [0, 0, 0, 2, 3], [0, 0, 0, 0, 2], [0, 0, 0, 0, 0]], 'line': [[], [], [1, 1], [1, 1, 1], [1, 1, 1, 1]], 'score': 21, 'floor': []}], \n",
    "#          'activePlayer': 2, 'roundIdx': 3, 'bag': [0, 1,0,0,4], 'discard': [20]*5}\n",
    "state = {'factory': [[], [], [], [], [], [], []], 'center': [], \n",
    "         'player': [{'grid': [[1, 2, 3, 0, 0], [0, 1, 2, 0, 4], [4, 5, 0, 0, 0], [3, 4, 5, 0, 0], [0, 3, 0, 0, 0]], 'line': [[], [], [1, 1], [], [4, 4, 4, 4]], 'score': 31, 'floor': []}, \n",
    "                    {'grid': [[1, 2, 3, 4, 0], [5, 1, 2, 3, 0], [4, 5, 0, 2, 3], [0, 0, 0, 0, 0], [2, 0, 0, 0, 1]], 'line': [[], [], [], [5, 5, 5], []], 'score': 38, 'floor': []}, \n",
    "                    {'grid': [[1, 2, 3, 4, 0], [5, 1, 2, 3, 0], [4, 5, 1, 0, 0], [3, 0, 0, 0, 0], [2, 0, 0, 0, 0]], 'line': [[], [], [], [4], []], 'score': 49, 'floor': []}], \n",
    "        'activePlayer': 0, 'roundIdx': 4, 'bag': [8, 6, 4, 8, 6], 'discard': [2, 5, 6, 0, 4]}\n",
    "\n",
    "# root = ai.MCTS_node(state)\n",
    "# root.grow_while(2)\n",
    "logic.get_reward(logic.deepcopy(state))"
   ]
  },
  {
   "cell_type": "code",
   "execution_count": 158,
   "metadata": {},
   "outputs": [],
   "source": [
    "state = {'factory': [[3, 1, 5, 4], [4, 5, 1, 3], [1, 2, 2, 1], [5, 1, 5, 4], [5, 1, 2, 4], [5, 3, 4, 3], [5, 2, 1, 1]], 'center': [-1], 'player': [{'grid': [[1, 2, 3, 0, 0], [0, 1, 2, 0, 4], [4, 5, 0, 0, 0], [3, 4, 5, 0, 0], [0, 3, 0, 0, 0]], 'line': [[], [], [1, 1], [], [4, 4, 4, 4]], 'score': 31, 'floor': []}, {'grid': [[1, 2, 3, 4, 0], [5, 1, 2, 3, 0], [4, 5, 0, 2, 3], [0, 0, 0, 0, 0], [2, 0, 0, 0, 1]], 'line': [[], [], [], [5, 5, 5], []], 'score': 38, 'floor': []}, {'grid': [[1, 2, 3, 4, 0], [5, 1, 2, 3, 0], [4, 5, 1, 0, 0], [3, 0, 0, 0, 0], [2, 0, 0, 0, 0]], 'line': [[], [], [], [4], []], 'score': 49, 'floor': []}], 'activePlayer': 0, 'roundIdx': 4, 'bag': [0, 2, 1, 3, 0], 'discard': [2, 5, 6, 0, 4]}\n",
    "\n",
    "root = ai.MCTS_node(logic.deepcopy(state))\n",
    "# root.grow_while(2)"
   ]
  },
  {
   "cell_type": "code",
   "execution_count": 161,
   "metadata": {},
   "outputs": [
    {
     "name": "stdout",
     "output_type": "stream",
     "text": [
      "[4, 4, 4], 0.53, 408\n",
      "[4, 4, 4], 0.42, 801\n",
      "[1, 1, 2], 0.39, 1293\n",
      "[0, 4, 4], 0.36, 1725\n",
      "[4, 4, 4], 0.34, 2196\n",
      "[5, 4, 4], 0.36, 2586\n",
      "[5, 4, 4], 0.36, 3047\n",
      "[5, 4, 4], 0.36, 3440\n",
      "[5, 4, 4], 0.36, 3823\n",
      "[5, 4, 4], 0.34, 4269\n",
      "[5, 4, 4], 0.34, 4702\n",
      "[4, 4, 4], 0.33, 5130\n",
      "[5, 4, 4], 0.33, 5505\n",
      "[5, 4, 4], 0.34, 5927\n"
     ]
    },
    {
     "ename": "AssertionError",
     "evalue": "Missing tiles",
     "output_type": "error",
     "traceback": [
      "\u001b[0;31m---------------------------------------------------------------------------\u001b[0m",
      "\u001b[0;31mAssertionError\u001b[0m                            Traceback (most recent call last)",
      "\u001b[1;32m/home/garamizo/Azul-Board-Game/scratch.ipynb Cell 8\u001b[0m line \u001b[0;36m4\n\u001b[1;32m      <a href='vscode-notebook-cell:/home/garamizo/Azul-Board-Game/scratch.ipynb#X66sZmlsZQ%3D%3D?line=0'>1</a>\u001b[0m root \u001b[39m=\u001b[39m ai\u001b[39m.\u001b[39mMCTS_node(logic\u001b[39m.\u001b[39mdeepcopy(state))\n\u001b[1;32m      <a href='vscode-notebook-cell:/home/garamizo/Azul-Board-Game/scratch.ipynb#X66sZmlsZQ%3D%3D?line=2'>3</a>\u001b[0m \u001b[39mfor\u001b[39;00m _ \u001b[39min\u001b[39;00m \u001b[39mrange\u001b[39m(\u001b[39m30\u001b[39m):\n\u001b[0;32m----> <a href='vscode-notebook-cell:/home/garamizo/Azul-Board-Game/scratch.ipynb#X66sZmlsZQ%3D%3D?line=3'>4</a>\u001b[0m     root\u001b[39m.\u001b[39;49mgrow_while(\u001b[39m3\u001b[39;49m)\n\u001b[1;32m      <a href='vscode-notebook-cell:/home/garamizo/Azul-Board-Game/scratch.ipynb#X66sZmlsZQ%3D%3D?line=4'>5</a>\u001b[0m     action, idx \u001b[39m=\u001b[39m root\u001b[39m.\u001b[39mget_best_action()\n\u001b[1;32m      <a href='vscode-notebook-cell:/home/garamizo/Azul-Board-Game/scratch.ipynb#X66sZmlsZQ%3D%3D?line=6'>7</a>\u001b[0m     \u001b[39mprint\u001b[39m(\u001b[39mf\u001b[39m\u001b[39m\"\u001b[39m\u001b[39m{\u001b[39;00mroot\u001b[39m.\u001b[39maction[idx]\u001b[39m}\u001b[39;00m\u001b[39m, \u001b[39m\u001b[39m{\u001b[39;00mroot\u001b[39m.\u001b[39mchild[idx]\u001b[39m.\u001b[39mnumWins\u001b[39m/\u001b[39mroot\u001b[39m.\u001b[39mchild[idx]\u001b[39m.\u001b[39mnumRolls\u001b[39m:\u001b[39;00m\u001b[39m.2f\u001b[39m\u001b[39m}\u001b[39;00m\u001b[39m, \u001b[39m\u001b[39m{\u001b[39;00mroot\u001b[39m.\u001b[39mnumRolls\u001b[39m}\u001b[39;00m\u001b[39m\"\u001b[39m)\n",
      "File \u001b[0;32m~/Azul-Board-Game/azul/ai.py:117\u001b[0m, in \u001b[0;36mMCTS_node.grow_while\u001b[0;34m(self, timeout, maxRolls, startTime)\u001b[0m\n\u001b[1;32m    115\u001b[0m \u001b[39m# grow tree in alloted time\u001b[39;00m\n\u001b[1;32m    116\u001b[0m \u001b[39mwhile\u001b[39;00m time() \u001b[39m<\u001b[39m startTime \u001b[39m+\u001b[39m timeout \u001b[39mand\u001b[39;00m \u001b[39mself\u001b[39m\u001b[39m.\u001b[39mnumRolls \u001b[39m<\u001b[39m\u001b[39m=\u001b[39m maxRolls:\n\u001b[0;32m--> 117\u001b[0m     \u001b[39mself\u001b[39;49m\u001b[39m.\u001b[39;49mgrow()\n\u001b[1;32m    118\u001b[0m \u001b[39mwhile\u001b[39;00m time() \u001b[39m<\u001b[39m startTime \u001b[39m+\u001b[39m timeout:\n\u001b[1;32m    119\u001b[0m     \u001b[39mpass\u001b[39;00m\n",
      "File \u001b[0;32m~/Azul-Board-Game/azul/ai.py:108\u001b[0m, in \u001b[0;36mMCTS_node.grow\u001b[0;34m(self)\u001b[0m\n\u001b[1;32m    106\u001b[0m     node\u001b[39m.\u001b[39mexpand(leafIdx)\n\u001b[1;32m    107\u001b[0m     node \u001b[39m=\u001b[39m node\u001b[39m.\u001b[39mchild[leafIdx]\n\u001b[0;32m--> 108\u001b[0m reward \u001b[39m=\u001b[39m node\u001b[39m.\u001b[39;49mrollout()\n\u001b[1;32m    109\u001b[0m node\u001b[39m.\u001b[39mbackpropagate(reward)\n",
      "File \u001b[0;32m~/Azul-Board-Game/azul/ai.py:88\u001b[0m, in \u001b[0;36mMCTS_node.rollout\u001b[0;34m(self)\u001b[0m\n\u001b[1;32m     85\u001b[0m     action \u001b[39m=\u001b[39m get_random_action(state)\n\u001b[1;32m     86\u001b[0m     play(state, action)\n\u001b[0;32m---> 88\u001b[0m \u001b[39mreturn\u001b[39;00m get_reward(state)\n",
      "File \u001b[0;32m~/Azul-Board-Game/azul/logic.py:629\u001b[0m, in \u001b[0;36mget_reward\u001b[0;34m(obs)\u001b[0m\n\u001b[1;32m    626\u001b[0m         action \u001b[39m=\u001b[39m get_random_action(state)\n\u001b[1;32m    627\u001b[0m         play(state, action)\n\u001b[0;32m--> 629\u001b[0m     state \u001b[39m=\u001b[39m reset_round(state)\n\u001b[1;32m    631\u001b[0m score \u001b[39m=\u001b[39m [p[\u001b[39m'\u001b[39m\u001b[39mscore\u001b[39m\u001b[39m'\u001b[39m] \u001b[39mfor\u001b[39;00m p \u001b[39min\u001b[39;00m state[\u001b[39m'\u001b[39m\u001b[39mplayer\u001b[39m\u001b[39m'\u001b[39m]]\n\u001b[1;32m    632\u001b[0m maxScore \u001b[39m=\u001b[39m \u001b[39mmax\u001b[39m(score)\n",
      "File \u001b[0;32m~/Azul-Board-Game/azul/logic.py:728\u001b[0m, in \u001b[0;36mreset_round\u001b[0;34m(state, numPlayers)\u001b[0m\n\u001b[1;32m    724\u001b[0m     state[\u001b[39m'\u001b[39m\u001b[39mbag\u001b[39m\u001b[39m'\u001b[39m] \u001b[39m=\u001b[39m [state[\u001b[39m'\u001b[39m\u001b[39mbag\u001b[39m\u001b[39m'\u001b[39m][i] \u001b[39m+\u001b[39m state[\u001b[39m'\u001b[39m\u001b[39mdiscard\u001b[39m\u001b[39m'\u001b[39m][i]\n\u001b[1;32m    725\u001b[0m                     \u001b[39mfor\u001b[39;00m i \u001b[39min\u001b[39;00m \u001b[39mrange\u001b[39m(NUM_COLORS)]\n\u001b[1;32m    726\u001b[0m     state[\u001b[39m'\u001b[39m\u001b[39mdiscard\u001b[39m\u001b[39m'\u001b[39m] \u001b[39m=\u001b[39m [\u001b[39m0\u001b[39m] \u001b[39m*\u001b[39m NUM_COLORS\n\u001b[0;32m--> 728\u001b[0m     \u001b[39massert\u001b[39;00m \u001b[39msum\u001b[39m(state[\u001b[39m'\u001b[39m\u001b[39mbag\u001b[39m\u001b[39m'\u001b[39m]) \u001b[39m>\u001b[39m\u001b[39m=\u001b[39m NUM_COLORS_PER_FACTORY \u001b[39m*\u001b[39m \\\n\u001b[1;32m    729\u001b[0m         numFactory, \u001b[39m\"\u001b[39m\u001b[39mMissing tiles\u001b[39m\u001b[39m\"\u001b[39m\n\u001b[1;32m    731\u001b[0m \u001b[39m# for each factory sample 4 colors from bag, no repetition\u001b[39;00m\n\u001b[1;32m    732\u001b[0m \u001b[39m#  efficient implementation of sampling from bag\u001b[39;00m\n\u001b[1;32m    733\u001b[0m \u001b[39mfor\u001b[39;00m i, factory \u001b[39min\u001b[39;00m \u001b[39menumerate\u001b[39m(state[\u001b[39m'\u001b[39m\u001b[39mfactory\u001b[39m\u001b[39m'\u001b[39m]):\n",
      "\u001b[0;31mAssertionError\u001b[0m: Missing tiles"
     ]
    }
   ],
   "source": [
    "root = ai.MCTS_node(logic.deepcopy(state))\n",
    "\n",
    "for _ in range(30):\n",
    "    root.grow_while(3)\n",
    "    action, idx = root.get_best_action()\n",
    "\n",
    "    print(f\"{root.action[idx]}, {root.child[idx].numWins/root.child[idx].numRolls:.2f}, {root.numRolls}\")"
   ]
  },
  {
   "cell_type": "code",
   "execution_count": 33,
   "metadata": {},
   "outputs": [
    {
     "name": "stdout",
     "output_type": "stream",
     "text": [
      "<generator object <genexpr> at 0x7f1788158040>\n"
     ]
    }
   ],
   "source": [
    "# %%timeit\n",
    "from random import choice \n",
    "import itertools as it\n",
    "\n",
    "vals = (i + 3 for i in range(5))\n",
    "# vals = [i + 3 for i in range(50)]\n",
    "# choice(vals)\n",
    "# next(vals)\n",
    "print(vals)"
   ]
  },
  {
   "cell_type": "code",
   "execution_count": 39,
   "metadata": {},
   "outputs": [
    {
     "name": "stdout",
     "output_type": "stream",
     "text": [
      "[0, 1, 2, 4]\n"
     ]
    }
   ],
   "source": [
    "seq = it.filterfalse(lambda x: x == 3, range(5))\n",
    "print(list(seq))"
   ]
  },
  {
   "cell_type": "code",
   "execution_count": 32,
   "metadata": {},
   "outputs": [
    {
     "data": {
      "text/plain": [
       "{'factory': [[], [], [], [], [], [], []],\n",
       " 'center': [],\n",
       " 'player': [{'grid': [[1, 2, 3, 4, 5],\n",
       "    [0, 1, 2, 3, 4],\n",
       "    [0, 0, 1, 2, 3],\n",
       "    [3, 0, 5, 1, 2],\n",
       "    [0, 0, 4, 0, 1]],\n",
       "   'line': [[], [], [], [], []],\n",
       "   'score': 75,\n",
       "   'floor': []},\n",
       "  {'grid': [[0, 2, 3, 4, 5],\n",
       "    [0, 1, 2, 3, 4],\n",
       "    [4, 0, 1, 2, 0],\n",
       "    [0, 4, 5, 1, 0],\n",
       "    [0, 0, 4, 5, 0]],\n",
       "   'line': [[], [5], [], [], [2, 2, 2, 2]],\n",
       "   'score': 85,\n",
       "   'floor': []},\n",
       "  {'grid': [[0, 2, 3, 4, 5],\n",
       "    [5, 1, 2, 3, 0],\n",
       "    [4, 5, 0, 2, 0],\n",
       "    [0, 0, 5, 0, 0],\n",
       "    [0, 3, 0, 0, 0]],\n",
       "   'line': [[], [], [3], [4], []],\n",
       "   'score': 46,\n",
       "   'floor': []}],\n",
       " 'activePlayer': 0,\n",
       " 'roundIdx': 4,\n",
       " 'bag': [1, 1, 3, 1, 3],\n",
       " 'discard': [10, 5, 7, 8, 7]}"
      ]
     },
     "execution_count": 32,
     "metadata": {},
     "output_type": "execute_result"
    }
   ],
   "source": [
    "stateNew = logic.deepcopy(root.state)\n",
    "logic.play(stateNew, [-1, 1, -1])  # AI, P2\n",
    "stateNew"
   ]
  },
  {
   "cell_type": "code",
   "execution_count": 38,
   "metadata": {},
   "outputs": [
    {
     "name": "stdout",
     "output_type": "stream",
     "text": [
      "[1, 3, 5, 5, 2] [3, 3, 2, 5, 3]\n"
     ]
    },
    {
     "data": {
      "text/plain": [
       "([[0, 2, 3, 4, 5],\n",
       "  [0, 1, 2, 3, 4],\n",
       "  [4, 0, 1, 2, 0],\n",
       "  [0, 4, 5, 1, 0],\n",
       "  [0, 0, 4, 5, 0]],\n",
       " 24)"
      ]
     },
     "execution_count": 38,
     "metadata": {},
     "output_type": "execute_result"
    }
   ],
   "source": [
    "root.child[0].state['player'][1]['grid'], logic.score_grid(root.child[0].state['player'][1]['grid'])"
   ]
  },
  {
   "cell_type": "code",
   "execution_count": 8,
   "metadata": {},
   "outputs": [
    {
     "name": "stdout",
     "output_type": "stream",
     "text": [
      "Rolls: 4713, Win ratio: 0.0022, Active player: 0\n",
      "\tAction\t\tUCB\tWRatio\tNumSims\n",
      "\t[-1, 1, -1]\t0.06\t0.004\t4712\n"
     ]
    }
   ],
   "source": [
    "root.child[-2].child[-1].print()"
   ]
  },
  {
   "cell_type": "code",
   "execution_count": 10,
   "metadata": {},
   "outputs": [
    {
     "data": {
      "text/plain": [
       "{'factory': [[], [], [], [], [], [], []],\n",
       " 'center': [],\n",
       " 'player': [{'grid': [[1, 2, 3, 4, 5],\n",
       "    [0, 1, 2, 3, 4],\n",
       "    [0, 0, 1, 2, 3],\n",
       "    [3, 0, 5, 1, 2],\n",
       "    [0, 0, 4, 0, 1]],\n",
       "   'line': [[], [], [], [], []],\n",
       "   'score': 75,\n",
       "   'floor': []},\n",
       "  {'grid': [[0, 2, 3, 4, 5],\n",
       "    [0, 1, 2, 3, 4],\n",
       "    [4, 0, 1, 2, 0],\n",
       "    [0, 4, 5, 1, 0],\n",
       "    [0, 0, 4, 5, 0]],\n",
       "   'line': [[], [5], [], [], [2, 2, 2, 2]],\n",
       "   'score': 85,\n",
       "   'floor': []},\n",
       "  {'grid': [[0, 2, 3, 4, 5],\n",
       "    [5, 1, 2, 3, 0],\n",
       "    [4, 5, 0, 2, 0],\n",
       "    [0, 0, 5, 0, 0],\n",
       "    [0, 3, 0, 0, 0]],\n",
       "   'line': [[], [], [3], [4], []],\n",
       "   'score': 46,\n",
       "   'floor': []}],\n",
       " 'activePlayer': 0,\n",
       " 'roundIdx': 4,\n",
       " 'bag': [1, 1, 3, 1, 3],\n",
       " 'discard': [10, 5, 7, 8, 7]}"
      ]
     },
     "execution_count": 10,
     "metadata": {},
     "output_type": "execute_result"
    }
   ],
   "source": [
    "root.child[-2].child[-1].child[0].state"
   ]
  },
  {
   "cell_type": "code",
   "execution_count": 14,
   "metadata": {},
   "outputs": [
    {
     "data": {
      "text/plain": [
       "{'factory': [[], [], [], [], [], [], []],\n",
       " 'center': [],\n",
       " 'player': [{'grid': [[1, 2, 3, 4, 5],\n",
       "    [0, 1, 2, 3, 4],\n",
       "    [0, 0, 1, 2, 3],\n",
       "    [3, 0, 5, 1, 2],\n",
       "    [0, 0, 4, 0, 1]],\n",
       "   'line': [[], [], [], [], []],\n",
       "   'score': 75,\n",
       "   'floor': []},\n",
       "  {'grid': [[0, 2, 3, 4, 5],\n",
       "    [0, 1, 2, 3, 4],\n",
       "    [4, 0, 1, 2, 0],\n",
       "    [0, 4, 5, 1, 0],\n",
       "    [0, 0, 4, 5, 0]],\n",
       "   'line': [[], [5], [], [], [2, 2, 2, 2]],\n",
       "   'score': 85,\n",
       "   'floor': []},\n",
       "  {'grid': [[0, 2, 3, 4, 5],\n",
       "    [5, 1, 2, 3, 0],\n",
       "    [4, 5, 0, 2, 0],\n",
       "    [0, 0, 5, 0, 0],\n",
       "    [0, 3, 0, 0, 0]],\n",
       "   'line': [[], [], [3], [4], []],\n",
       "   'score': 46,\n",
       "   'floor': []}],\n",
       " 'activePlayer': 0,\n",
       " 'roundIdx': 4,\n",
       " 'bag': [1, 1, 3, 1, 3],\n",
       " 'discard': [10, 5, 7, 8, 7]}"
      ]
     },
     "execution_count": 14,
     "metadata": {},
     "output_type": "execute_result"
    }
   ],
   "source": [
    "root.child[-2].child[-1].child[0].state"
   ]
  },
  {
   "cell_type": "code",
   "execution_count": 92,
   "metadata": {},
   "outputs": [
    {
     "name": "stdout",
     "output_type": "stream",
     "text": [
      "here\n",
      "it is terminal!\n",
      "Bag: [0, 1, 0, 2, 1]\n",
      "Discard: [10, 9, 8, 8, 6]\n",
      "Factory:\n",
      "[]\n",
      "[]\n",
      "[]\n",
      "[]\n",
      "[]\n",
      "[]\n",
      "[]\n",
      "  []\n",
      "Player 0: 77\n",
      " line:  [[], [], [], [], []]\n",
      " grid:  [[1, 2, 3, 4, 0], [5, 1, 2, 0, 0], [4, 5, 1, 2, 0], [3, 4, 5, 0, 0], [2, 0, 4, 0, 0]]\n",
      " floor:  []\n",
      "Player 1: 57\n",
      " line:  [[], [], [], [], [3, 3, 3]]\n",
      " grid:  [[1, 2, 3, 4, 5], [5, 1, 0, 3, 4], [4, 5, 0, 2, 3], [0, 0, 0, 1, 2], [0, 0, 0, 0, 1]]\n",
      " floor:  []\n",
      "Player 2: 57\n",
      " line:  [[], [], [], [], [5, 5, 5, 5]]\n",
      " grid:  [[1, 2, 3, 4, 5], [5, 1, 2, 3, 4], [4, 5, 1, 2, 3], [3, 0, 0, 0, 0], [0, 0, 0, 0, 0]]\n",
      " floor:  []\n"
     ]
    }
   ],
   "source": [
    "stateNew = logic.deepcopy(root.state)\n",
    "logic.play(stateNew, [-1, 1, -1])  # AI, P2\n",
    "\n",
    "logic.print_state(stateNew)"
   ]
  },
  {
   "cell_type": "code",
   "execution_count": 80,
   "metadata": {},
   "outputs": [
    {
     "data": {
      "text/plain": [
       "{'factory': [[], [], [], [], [], [], []],\n",
       " 'center': [],\n",
       " 'player': [{'grid': [[1, 2, 3, 0, 0],\n",
       "    [5, 1, 2, 0, 0],\n",
       "    [4, 5, 1, 0, 0],\n",
       "    [3, 4, 0, 0, 0],\n",
       "    [2, 0, 0, 0, 0]],\n",
       "   'line': [[4], [], [2, 2, 2], [5, 5, 5, 5], [4, 4, 4, 4, 4]],\n",
       "   'score': 35,\n",
       "   'floor': [5, 2]},\n",
       "  {'grid': [[0, 2, 3, 4, 5],\n",
       "    [5, 1, 0, 3, 4],\n",
       "    [0, 5, 0, 2, 3],\n",
       "    [0, 0, 0, 0, 2],\n",
       "    [0, 0, 0, 0, 1]],\n",
       "   'line': [[1], [], [4, 4, 4], [1, 1, 1, 1], [3, 3, 3]],\n",
       "   'score': 34,\n",
       "   'floor': [-1, 1, 1]},\n",
       "  {'grid': [[1, 2, 3, 0, 5],\n",
       "    [5, 1, 2, 0, 4],\n",
       "    [4, 5, 1, 0, 3],\n",
       "    [0, 0, 0, 0, 0],\n",
       "    [0, 0, 0, 0, 0]],\n",
       "   'line': [[4], [3, 3], [2, 2, 2], [3, 3, 3, 3], [5, 5, 5, 5]],\n",
       "   'score': 27,\n",
       "   'floor': []}],\n",
       " 'activePlayer': 2,\n",
       " 'roundIdx': 4,\n",
       " 'bag': [0, 1, 0, 2, 1],\n",
       " 'discard': [5, 4, 4, 2, 2]}"
      ]
     },
     "execution_count": 80,
     "metadata": {},
     "output_type": "execute_result"
    }
   ],
   "source": [
    "root.child[0].state"
   ]
  },
  {
   "cell_type": "code",
   "execution_count": 43,
   "metadata": {},
   "outputs": [
    {
     "name": "stdout",
     "output_type": "stream",
     "text": [
      "Rolls: 152660, Win ratio: 0.0, Active player: 0\n",
      "\tAction\t\tUCB\tWRatio\tNumSims\n",
      "\t[-1, 2, -1]\t1.00\t0.126\t31\n",
      "\t[-1, 2, 3]\t1.00\t0.126\t31\n",
      "\t[-1, 4, -1]\t1.00\t0.123\t31\n",
      "\t[-1, 4, 1]\t1.00\t0.126\t31\n",
      "\t[-1, 4, 4]\t1.00\t0.138\t32\n",
      "\t[-1, 5, -1]\t1.00\t0.096\t29\n",
      "\t[-1, 5, 3]\t1.00\t0.162\t34\n",
      "\t[6, 2, -1]\t1.01\t0.484\t86\n",
      "\t[6, 2, 3]\t1.01\t0.264\t43\n",
      "\t[6, 4, -1]\t1.01\t0.612\t152\n",
      "\t[6, 4, 1]\t1.01\t0.693\t236\n",
      "\t[6, 4, 4]\t1.01\t0.999\t151829\n",
      "\t[6, 5, -1]\t1.01\t0.263\t43\n",
      "\t[6, 5, 3]\t1.01\t0.332\t52\n"
     ]
    }
   ],
   "source": [
    "root.print()"
   ]
  },
  {
   "cell_type": "code",
   "execution_count": 45,
   "metadata": {},
   "outputs": [
    {
     "name": "stdout",
     "output_type": "stream",
     "text": [
      "Rolls: 151829, Win ratio: 1.0, Active player: 1\n",
      "\tAction\t\tUCB\tWRatio\tNumSims\n",
      "\t[-1, 2, -1]\t0.11\t0.081\t39093\n",
      "\t[-1, 4, -1]\t0.11\t0.088\t76341\n",
      "\t[-1, 5, -1]\t0.11\t0.080\t36394\n"
     ]
    }
   ],
   "source": [
    "root.child[-3].print()"
   ]
  },
  {
   "cell_type": "code",
   "execution_count": 46,
   "metadata": {},
   "outputs": [
    {
     "name": "stdout",
     "output_type": "stream",
     "text": [
      "Rolls: 76341, Win ratio: 0.088, Active player: 2\n",
      "\tAction\t\tUCB\tWRatio\tNumSims\n",
      "\t[-1, 2, -1]\t0.09\t0.056\t17417\n",
      "\t[-1, 5, -1]\t0.09\t0.061\t24406\n",
      "\t[-1, 5, 4]\t0.09\t0.066\t34517\n"
     ]
    }
   ],
   "source": [
    "root.child[11].child[1].print()"
   ]
  },
  {
   "cell_type": "code",
   "execution_count": 47,
   "metadata": {},
   "outputs": [
    {
     "name": "stdout",
     "output_type": "stream",
     "text": [
      "Rolls: 34517, Win ratio: 0.066, Active player: 0\n",
      "\tAction\t\tUCB\tWRatio\tNumSims\n",
      "\t[-1, 2, -1]\t1.01\t0.097\t25\n",
      "\t[-1, 2, 3]\t1.02\t1.000\t34491\n"
     ]
    }
   ],
   "source": [
    "root.child[11].child[1].child[2].print()"
   ]
  },
  {
   "cell_type": "code",
   "execution_count": 48,
   "metadata": {},
   "outputs": [
    {
     "name": "stdout",
     "output_type": "stream",
     "text": [
      "Bag: [0, 1, 0, 2, 1]\n",
      "Discard: [10, 7, 7, 9, 10]\n",
      "Factory:\n",
      "[]\n",
      "[]\n",
      "[]\n",
      "[]\n",
      "[]\n",
      "[]\n",
      "[]\n",
      "  []\n",
      "Player 0: 61\n",
      " line:  [[], [], [], [2, 2], []]\n",
      " grid:  [[1, 2, 3, 4, 0], [5, 1, 2, 0, 0], [4, 5, 1, 2, 0], [3, 4, 0, 0, 0], [2, 0, 4, 0, 0]]\n",
      " floor:  []\n",
      "Player 1: 57\n",
      " line:  [[], [], [], [], [3, 3, 3]]\n",
      " grid:  [[0, 2, 3, 4, 5], [5, 1, 2, 3, 4], [0, 5, 1, 2, 3], [0, 0, 0, 1, 2], [0, 0, 0, 0, 1]]\n",
      " floor:  []\n",
      "Player 2: 41\n",
      " line:  [[], [], [], [3], []]\n",
      " grid:  [[1, 2, 3, 4, 5], [5, 1, 2, 3, 4], [4, 5, 1, 0, 3], [0, 0, 0, 0, 0], [0, 0, 0, 5, 0]]\n",
      " floor:  []\n"
     ]
    }
   ],
   "source": [
    "stateEnd = logic.deepcopy(root.child[11].child[1].child[2].child[1].state)\n",
    "# logic.get_reward(stateEnd)\n",
    "logic.print_state(stateEnd)"
   ]
  },
  {
   "cell_type": "code",
   "execution_count": 24,
   "metadata": {},
   "outputs": [
    {
     "data": {
      "text/plain": [
       "[1.0, 0.07265625, 0.04453125]"
      ]
     },
     "execution_count": 24,
     "metadata": {},
     "output_type": "execute_result"
    }
   ],
   "source": [
    "logic.get_reward(root.child[11].child[1].child[2].child[0].state)\n"
   ]
  },
  {
   "cell_type": "code",
   "execution_count": null,
   "metadata": {},
   "outputs": [],
   "source": []
  },
  {
   "cell_type": "code",
   "execution_count": 21,
   "metadata": {},
   "outputs": [
    {
     "name": "stdout",
     "output_type": "stream",
     "text": [
      "1144\n"
     ]
    }
   ],
   "source": [
    "# %%snakeviz -t\n",
    "\n",
    "root.grow_while(timeout=10)  # 8317 rolls/10 s\n",
    "print(root.numRolls)\n",
    "# remove np from score_board: 11238 / 10s 3P\n",
    "# root.print()\n",
    "\n",
    "# old random sample: 8689 / 10s 3P - 12647\n",
    "# new random sample: 4288 / 10s 3P - 7703"
   ]
  },
  {
   "cell_type": "code",
   "execution_count": 96,
   "metadata": {},
   "outputs": [
    {
     "name": "stdout",
     "output_type": "stream",
     "text": [
      "Bag: [0, 0, 0, 0, 0]\n",
      "Discard: [20, 20, 20, 20, 20]\n",
      "Factory:\n",
      "[3, 2, 5, 2]\n",
      "[4, 1, 5, 4]\n",
      "[5, 5, 4, 1]\n",
      "[4, 3, 2, 3]\n",
      "[1, 3, 2, 1]\n",
      "  []\n",
      "Player 0: 41\n",
      " line:  [[], [], [], [4], [4, 4, 4, 4]]\n",
      " grid:  [[1, 2, 0, 4, 5], [5, 1, 2, 3, 0], [4, 5, 1, 2, 0], [0, 0, 5, 0, 0], [0, 0, 0, 0, 0]]\n",
      " floor:  []\n",
      "Player 1: 20\n",
      " line:  [[], [], [1, 1], [1, 1, 1], [1, 1, 1, 1]]\n",
      " grid:  [[1, 2, 3, 4, 0], [5, 1, 2, 3, 0], [0, 0, 0, 2, 3], [0, 0, 0, 0, 2], [0, 0, 0, 0, 0]]\n",
      " floor:  []\n"
     ]
    }
   ],
   "source": [
    "# state = {'factory': [[], [], [], [], []], 'center': [], \n",
    "#          'player': [{'grid': [[1, 2, 0, 4, 5], [5, 1, 2, 3, 0], [4, 5, 1, 2, 0], [0, 0, 5, 0, 0], [0, 0, 0, 0, 0]], 'line': [[], [], [], [4], [4, 4, 4, 4]], 'score': 41, 'floor': []}, {'grid': [[1, 2, 3, 4, 0], [5, 1, 2, 3, 0], [0, 0, 0, 2, 3], [0, 0, 0, 0, 2], [0, 0, 0, 0, 0]], 'line': [[], [], [1, 1], [1, 1, 1], [1, 1, 1, 1]], 'score': 21, 'floor': [-1]}], \n",
    "#          'activePlayer': 2, 'roundIdx': 3, 'bag': [4]*5, 'discard': [20]*5}\n",
    "\n",
    "\n",
    "state1 = logic.deepcopy(state)\n",
    "logic.reset_round(state1)\n",
    "\n",
    "# logic.draw_tiles(4, state1['bag'])\n",
    "logic.print_state(state1)"
   ]
  },
  {
   "cell_type": "code",
   "execution_count": 131,
   "metadata": {},
   "outputs": [
    {
     "name": "stdout",
     "output_type": "stream",
     "text": [
      "Bag: [13, 14, 16, 14, 15]\n",
      "Discard: [0, 0, 0, 0, 0]\n",
      "Factory:\n",
      "[3, 4, 4, 4]\n",
      "[3, 1, 1, 5]\n",
      "[1, 2, 5, 2]\n",
      "[5, 2, 5, 3]\n",
      "[1, 4, 2, 4]\n",
      "[2, 1, 5, 1]\n",
      "[3, 2, 4, 1]\n",
      "  [-1]\n",
      "Player 0: 0\n",
      " line:  [[], [], [], [], []]\n",
      " grid:  [[0, 0, 0, 0, 0], [0, 0, 0, 0, 0], [0, 0, 0, 0, 0], [0, 0, 0, 0, 0], [0, 0, 0, 0, 0]]\n",
      " floor:  []\n",
      "Player 1: 0\n",
      " line:  [[], [], [], [], []]\n",
      " grid:  [[0, 0, 0, 0, 0], [0, 0, 0, 0, 0], [0, 0, 0, 0, 0], [0, 0, 0, 0, 0], [0, 0, 0, 0, 0]]\n",
      " floor:  []\n",
      "Player 2: 0\n",
      " line:  [[], [], [], [], []]\n",
      " grid:  [[0, 0, 0, 0, 0], [0, 0, 0, 0, 0], [0, 0, 0, 0, 0], [0, 0, 0, 0, 0], [0, 0, 0, 0, 0]]\n",
      " floor:  []\n"
     ]
    }
   ],
   "source": [
    "tbl = logic.Table()\n",
    "\n",
    "state = tbl.get_observation()\n",
    "state = logic.reset_round(state)\n",
    "\n",
    "logic.print_state(state)"
   ]
  },
  {
   "cell_type": "code",
   "execution_count": 2,
   "metadata": {},
   "outputs": [
    {
     "name": "stdout",
     "output_type": "stream",
     "text": [
      "self.numRolls=1580, self.numWins=0, self.state['activePlayer']=0\n",
      "\tAction\t\tUCB\tWRatio\tNumSims\n",
      "\t[0, 2, -1]\t1.46\t0.473\t15\n",
      "\t[0, 2, 0]\t1.45\t0.488\t16\n",
      "\t[0, 2, 1]\t1.46\t0.436\t14\n",
      "\t[0, 2, 2]\t1.48\t0.457\t14\n",
      "\t[0, 2, 3]\t1.46\t0.400\t13\n",
      "\t[0, 2, 4]\t1.45\t0.488\t16\n",
      "\t[0, 3, -1]\t1.45\t0.460\t15\n",
      "\t[0, 3, 0]\t1.47\t0.512\t16\n",
      "\t[0, 3, 1]\t1.47\t0.480\t15\n",
      "\t[0, 3, 2]\t1.47\t0.506\t16\n",
      "\t[0, 3, 3]\t1.47\t0.567\t18\n",
      "\t[0, 3, 4]\t1.47\t0.480\t15\n",
      "\t[0, 5, -1]\t1.43\t0.440\t15\n",
      "\t[0, 5, 0]\t1.46\t0.436\t14\n",
      "\t[0, 5, 1]\t1.46\t0.529\t17\n",
      "\t[0, 5, 2]\t1.45\t0.429\t14\n",
      "\t[0, 5, 3]\t1.48\t0.595\t19\n",
      "\t[0, 5, 4]\t1.48\t0.457\t14\n",
      "\t[1, 1, -1]\t1.46\t0.529\t17\n",
      "\t[1, 1, 0]\t1.45\t0.385\t13\n",
      "\t[1, 1, 1]\t1.47\t0.567\t18\n",
      "\t[1, 1, 2]\t1.47\t0.567\t18\n",
      "\t[1, 1, 3]\t1.47\t0.513\t16\n",
      "\t[1, 1, 4]\t1.45\t0.421\t14\n",
      "\t[1, 2, -1]\t1.43\t0.475\t16\n",
      "\t[1, 2, 0]\t1.46\t0.300\t11\n",
      "\t[1, 2, 1]\t1.44\t0.506\t17\n",
      "\t[1, 2, 2]\t1.47\t0.541\t17\n",
      "\t[1, 2, 3]\t1.46\t0.556\t18\n",
      "\t[1, 2, 4]\t1.47\t0.480\t15\n",
      "\t[1, 4, -1]\t1.46\t0.584\t19\n",
      "\t[1, 4, 0]\t1.43\t0.475\t16\n",
      "\t[1, 4, 1]\t1.45\t0.518\t17\n",
      "\t[1, 4, 2]\t1.45\t0.487\t16\n",
      "\t[1, 4, 3]\t1.47\t0.443\t14\n",
      "\t[1, 4, 4]\t1.47\t0.506\t16\n",
      "\t[1, 5, -1]\t1.45\t0.487\t16\n",
      "\t[1, 5, 0]\t1.47\t0.506\t16\n",
      "\t[1, 5, 1]\t1.47\t0.512\t16\n",
      "\t[1, 5, 2]\t1.47\t0.535\t17\n",
      "\t[1, 5, 3]\t1.46\t0.436\t14\n",
      "\t[1, 5, 4]\t1.45\t0.385\t13\n",
      "\t[2, 1, -1]\t1.47\t0.535\t17\n",
      "\t[2, 1, 0]\t1.47\t0.535\t17\n",
      "\t[2, 1, 1]\t1.47\t0.443\t14\n",
      "\t[2, 1, 2]\t1.47\t0.513\t16\n",
      "\t[2, 1, 3]\t1.46\t0.500\t16\n",
      "\t[2, 1, 4]\t1.46\t0.584\t19\n",
      "\t[2, 2, -1]\t1.48\t0.578\t18\n",
      "\t[2, 2, 0]\t1.48\t0.450\t14\n",
      "\t[2, 2, 1]\t1.47\t0.541\t17\n",
      "\t[2, 2, 2]\t1.46\t0.467\t15\n",
      "\t[2, 2, 3]\t1.46\t0.529\t17\n",
      "\t[2, 2, 4]\t1.48\t0.457\t14\n",
      "\t[2, 3, -1]\t1.46\t0.529\t17\n",
      "\t[2, 3, 0]\t1.45\t0.429\t14\n",
      "\t[2, 3, 1]\t1.48\t0.487\t15\n",
      "\t[2, 3, 2]\t1.46\t0.467\t15\n",
      "\t[2, 3, 3]\t1.46\t0.500\t16\n",
      "\t[2, 3, 4]\t1.48\t0.487\t15\n",
      "\t[2, 5, -1]\t1.45\t0.488\t16\n",
      "\t[2, 5, 0]\t1.45\t0.421\t14\n",
      "\t[2, 5, 1]\t1.46\t0.392\t13\n",
      "\t[2, 5, 2]\t1.45\t0.544\t18\n",
      "\t[2, 5, 3]\t1.48\t0.519\t16\n",
      "\t[2, 5, 4]\t1.47\t0.561\t18\n",
      "\t[3, 1, -1]\t1.44\t0.453\t15\n",
      "\t[3, 1, 0]\t1.47\t0.443\t14\n",
      "\t[3, 1, 1]\t1.47\t0.443\t14\n",
      "\t[3, 1, 2]\t1.45\t0.460\t15\n",
      "\t[3, 1, 3]\t1.45\t0.429\t14\n",
      "\t[3, 1, 4]\t1.44\t0.533\t18\n",
      "\t[3, 2, -1]\t1.47\t0.443\t14\n",
      "\t[3, 2, 0]\t1.45\t0.460\t15\n",
      "\t[3, 2, 1]\t1.46\t0.436\t14\n",
      "\t[3, 2, 2]\t1.48\t0.519\t16\n",
      "\t[3, 2, 3]\t1.45\t0.487\t16\n",
      "\t[3, 2, 4]\t1.46\t0.467\t15\n",
      "\t[3, 4, -1]\t1.47\t0.309\t11\n",
      "\t[3, 4, 0]\t1.44\t0.453\t15\n",
      "\t[3, 4, 1]\t1.46\t0.529\t17\n",
      "\t[3, 4, 2]\t1.45\t0.429\t14\n",
      "\t[3, 4, 3]\t1.47\t0.513\t16\n",
      "\t[3, 4, 4]\t1.44\t0.512\t17\n",
      "\t[4, 2, -1]\t1.46\t0.556\t18\n",
      "\t[4, 2, 0]\t1.48\t0.572\t18\n",
      "\t[4, 2, 1]\t1.45\t0.429\t14\n",
      "\t[4, 2, 2]\t1.48\t0.572\t18\n",
      "\t[4, 2, 3]\t1.48\t0.487\t15\n",
      "\t[4, 2, 4]\t1.46\t0.400\t13\n",
      "\t[4, 3, -1]\t1.45\t0.518\t17\n",
      "\t[4, 3, 0]\t1.48\t0.519\t16\n",
      "\t[4, 3, 1]\t1.47\t0.480\t15\n",
      "\t[4, 3, 2]\t1.48\t0.415\t13\n",
      "\t[4, 3, 3]\t1.45\t0.460\t15\n",
      "\t[4, 3, 4]\t1.47\t0.513\t16\n",
      "\t[4, 5, -1]\t1.47\t0.358\t12\n",
      "\t[4, 5, 0]\t1.48\t0.415\t13\n",
      "\t[4, 5, 1]\t1.48\t0.519\t16\n",
      "\t[4, 5, 2]\t1.47\t0.480\t15\n",
      "\t[4, 5, 3]\t1.46\t0.473\t15\n",
      "\t[4, 5, 4]\t1.48\t0.457\t14\n"
     ]
    }
   ],
   "source": [
    "import azul.ai as ai \n",
    "import azul.logic as logic\n",
    "\n",
    "# state = {'factory': [[], [], [], [], [], [], []], 'center': [], \n",
    "#          'player': [{'grid': [[1, 0, 3, 4, 5], [0, 0, 2, 3, 4], [4, 0, 1, 2, 3], [3, 0, 5, 0, 0], [0, 0, 4, 0, 0]], 'line': [[], [5], [], [1, 1], []], 'score': 43, 'floor': []}, {'grid': [[1, 2, 0, 4, 5], [5, 1, 2, 3, 0], [4, 5, 1, 2, 0], [0, 0, 5, 0, 0], [0, 0, 0, 0, 0]], 'line': [[], [], [], [4], [4, 4, 4, 4]], 'score': 41, 'floor': []}, {'grid': [[1, 2, 3, 4, 0], [5, 1, 2, 3, 0], [0, 0, 0, 2, 3], [0, 0, 0, 0, 2], [0, 0, 0, 0, 0]], 'line': [[], [], [1, 1], [1, 1, 1], [1, 1, 1, 1]], 'score': 21, 'floor': []}], \n",
    "#          'activePlayer': 2, 'roundIdx': 3, 'bag': [0, 1,0,0,4], 'discard': [20]*5}\n",
    "\n",
    "state = logic.reset_round()\n",
    "# state = logic.reset_round(state)\n",
    "root = ai.MCTS_node(state)\n",
    "# root.rollout()\n",
    "root.grow_while(10)\n",
    "\n",
    "root.print()\n",
    "# 17374 nsims new version , 1493 \n",
    "# 25175 old version, 27978"
   ]
  },
  {
   "cell_type": "code",
   "execution_count": 9,
   "metadata": {},
   "outputs": [
    {
     "name": "stdout",
     "output_type": "stream",
     "text": [
      "The snakeviz extension is already loaded. To reload it, use:\n",
      "  %reload_ext snakeviz\n",
      " \n",
      "*** Profile stats marshalled to file '/tmp/tmpp7vwwajg'.\n",
      "Opening SnakeViz in a new tab...\n",
      "snakeviz web server started on 127.0.0.1:8080; enter Ctrl-C to exit\n",
      "http://127.0.0.1:8080/snakeviz/%2Ftmp%2Ftmpp7vwwajg\n",
      "Opening in existing browser session.\n"
     ]
    },
    {
     "name": "stderr",
     "output_type": "stream",
     "text": [
      "MESA-INTEL: warning: Performance support disabled, consider sysctl dev.i915.perf_stream_paranoid=0\n",
      "\n"
     ]
    }
   ],
   "source": [
    "%load_ext snakeviz\n",
    "%snakeviz -t\n",
    "\n",
    "state = logic.reset_round()\n",
    "# state = logic.reset_round(state)\n",
    "root = ai.MCTS_node(state)\n",
    "# root.rollout()\n",
    "root.grow_while(1)"
   ]
  },
  {
   "cell_type": "code",
   "execution_count": 124,
   "metadata": {},
   "outputs": [
    {
     "name": "stdout",
     "output_type": "stream",
     "text": [
      "activePlayer=1\tnumPlayers=3\tstartingPlayer=0\troundIdx=0\n",
      "   | 1 |   |  \n",
      "---+---+---+---\n",
      "   | 0 | 2 | 2\n",
      "---+---+---+---\n",
      " 0 | 1 | 1 | 2\n",
      "---+---+---+---\n",
      " 0 |   |   | 0\n",
      "self.numRolls=82629, self.numWins=0, self.state['activePlayer']=1\n",
      "\tAction\t\tUCB\tWRatio\tNumSims\n",
      "\t[0, 0]\t0.23\t0.172\t6725\n",
      "\t[0, 2]\t0.23\t0.175\t7541\n",
      "\t[0, 3]\t0.23\t0.208\t47772\n",
      "\t[1, 0]\t0.23\t0.174\t7336\n",
      "\t[3, 1]\t0.23\t0.171\t6531\n",
      "\t[3, 2]\t0.23\t0.172\t6724\n"
     ]
    },
    {
     "data": {
      "text/plain": [
       "([0, 3], 2)"
      ]
     },
     "execution_count": 124,
     "metadata": {},
     "output_type": "execute_result"
    }
   ],
   "source": [
    "state = logic.reset_round()\n",
    "state['grid'] = (np.array([\n",
    "    [0, 2, 0, 0],\n",
    "    [0, 1, 3, 3],\n",
    "    [1, 2, 2, 3],\n",
    "    [1, 0, 0, 1]\n",
    "]) -1).tolist()\n",
    "state['activePlayer'] = 2 - 1\n",
    "\n",
    "root = ai.MCTS_node(state)\n",
    "root.grow(timeout=5)\n",
    "\n",
    "logic.print_state(state)\n",
    "# logic.get_reward(state)\n",
    "# logic.is_terminal(state)\n",
    "# ai.maxn(state, 8, -100)\n",
    "root.print()\n",
    "root.get_best_action()"
   ]
  },
  {
   "cell_type": "code",
   "execution_count": 4,
   "metadata": {},
   "outputs": [
    {
     "data": {
      "text/plain": [
       "{'factory': [[], [], [], [], []],\n",
       " 'center': [5],\n",
       " 'player': [{'grid': [[1, 0, 3, 4, 5],\n",
       "    [0, 1, 2, 0, 4],\n",
       "    [4, 0, 0, 0, 0],\n",
       "    [0, 4, 5, 0, 0],\n",
       "    [2, 0, 0, 0, 1]],\n",
       "   'line': [[2], [3, 3], [2, 2], [], [4]],\n",
       "   'score': 0,\n",
       "   'floor': [-1, 1, 4, 4, 3]},\n",
       "  {'grid': [[1, 0, 3, 4, 5],\n",
       "    [5, 0, 0, 3, 4],\n",
       "    [4, 5, 0, 0, 0],\n",
       "    [0, 0, 0, 1, 0],\n",
       "    [2, 0, 0, 0, 0]],\n",
       "   'line': [[2], [], [1], [4, 4, 4], [1, 1]],\n",
       "   'score': 0,\n",
       "   'floor': [5, 5, 5, 5, 5, 2, 1, 1]}],\n",
       " 'activePlayer': 1,\n",
       " 'roundIdx': 7}"
      ]
     },
     "execution_count": 4,
     "metadata": {},
     "output_type": "execute_result"
    }
   ],
   "source": [
    "# Simulate a full game\n",
    "import azul.ai as ai\n",
    "from random import seed \n",
    "import azul.logic as logic\n",
    "from copy import deepcopy\n",
    "# seed(1)\n",
    "\n",
    "t = logic.Table()\n",
    "state = t.get_observation()\n",
    "\n",
    "agents = [\n",
    "    lambda state: ai.get_random_action(state),\n",
    "    # lambda state: ai.alphabeta(state, 1, 4, -np.Inf, np.Inf, state['activePlayer'])[1],\n",
    "    # lambda state: ai.negamax(state, 1, 4, state['activePlayer'])[1],\n",
    "    lambda state: ai.get_random_action(state),\n",
    "]\n",
    "\n",
    "info = []\n",
    "while not (t.is_round_over() and t.is_game_over()):\n",
    "    state = deepcopy(t.get_observation())\n",
    "    action = agents[state['activePlayer']](state)\n",
    "    \n",
    "    factoryIdx, color, row = action\n",
    "    assert t.is_valid(color, factoryIdx, row), \"Invalid action\"\n",
    "    info.append({'state': deepcopy(state), 'action': action})\n",
    "    t.step_move(color, factoryIdx, row)\n",
    "\n",
    "# ai.get_reward(state), state\n",
    "# ai.get_reward(t.get_observation()), t.get_observation()\n",
    "state"
   ]
  },
  {
   "cell_type": "code",
   "execution_count": 122,
   "metadata": {},
   "outputs": [
    {
     "name": "stdout",
     "output_type": "stream",
     "text": [
      "Factory:\n",
      "[5, 5, 2, 2]\n",
      "[3, 4, 1, 1]\n",
      "[1, 1, 5, 1]\n",
      "[4, 3, 5, 2]\n",
      "[1, 2, 4, 2]\n",
      "[4, 2, 2, 4]\n",
      "[4, 5, 5, 2]\n",
      "  [-1]\n",
      "Player 0: 0\n",
      " line:  [[], [], [], [], []]\n",
      " grid:  [[0, 0, 0, 0, 0], [0, 0, 0, 0, 0], [0, 0, 0, 0, 0], [0, 0, 0, 0, 0], [0, 0, 0, 0, 0]]\n",
      " floor:  []\n",
      "Player 1: 0\n",
      " line:  [[], [], [], [], []]\n",
      " grid:  [[0, 0, 0, 0, 0], [0, 0, 0, 0, 0], [0, 0, 0, 0, 0], [0, 0, 0, 0, 0], [0, 0, 0, 0, 0]]\n",
      " floor:  []\n",
      "Player 2: 0\n",
      " line:  [[], [], [], [], []]\n",
      " grid:  [[0, 0, 0, 0, 0], [0, 0, 0, 0, 0], [0, 0, 0, 0, 0], [0, 0, 0, 0, 0], [0, 0, 0, 0, 0]]\n",
      " floor:  []\n"
     ]
    }
   ],
   "source": [
    "# %load_ext snakeviz\n",
    "# %load_ext autoreload\n",
    "# %autoreload 2\n",
    "import azul.ai as ai\n",
    "from random import seed \n",
    "import azul.logic as logic\n",
    "from azul.logic import deepcopy\n",
    "# from copy import deepcopy\n",
    "\n",
    "state = logic.reset_round(numPlayers=3)\n",
    "root = ai.MCTS_node(deepcopy(state))\n",
    "# root.grow_while(timeout=10)\n",
    "\n",
    "logic.print_state(state)\n",
    "result = []\n",
    "for i in range(10):\n",
    "    root.grow_while(timeout=10)\n",
    "    action, actionIdx = root.get_best_action()\n",
    "\n",
    "    result.append({\n",
    "        'avgRatio': root.child[actionIdx].numWins / root.child[actionIdx].numRolls,\n",
    "        'numRolls': root.child[actionIdx].numRolls,\n",
    "        'UCB': root.child[actionIdx].eval(),\n",
    "        'action': action.copy()})\n",
    "# root.numRolls # root.print()"
   ]
  },
  {
   "cell_type": "code",
   "execution_count": 105,
   "metadata": {},
   "outputs": [
    {
     "data": {
      "text/plain": [
       "{'factory': [[2, 3, 2, 5],\n",
       "  [4, 3, 5, 5],\n",
       "  [1, 2, 3, 1],\n",
       "  [1, 5, 4, 4],\n",
       "  [1, 5, 2, 1],\n",
       "  [5, 5, 4, 1],\n",
       "  [4, 5, 1, 4]],\n",
       " 'center': [-1],\n",
       " 'player': [{'grid': [[0, 0, 0, 0, 0],\n",
       "    [0, 0, 0, 0, 0],\n",
       "    [0, 0, 0, 0, 0],\n",
       "    [0, 0, 0, 0, 0],\n",
       "    [0, 0, 0, 0, 0]],\n",
       "   'line': [[], [], [], [], []],\n",
       "   'score': 0,\n",
       "   'floor': []},\n",
       "  {'grid': [[0, 0, 0, 0, 0],\n",
       "    [0, 0, 0, 0, 0],\n",
       "    [0, 0, 0, 0, 0],\n",
       "    [0, 0, 0, 0, 0],\n",
       "    [0, 0, 0, 0, 0]],\n",
       "   'line': [[], [], [], [], []],\n",
       "   'score': 0,\n",
       "   'floor': []},\n",
       "  {'grid': [[0, 0, 0, 0, 0],\n",
       "    [0, 0, 0, 0, 0],\n",
       "    [0, 0, 0, 0, 0],\n",
       "    [0, 0, 0, 0, 0],\n",
       "    [0, 0, 0, 0, 0]],\n",
       "   'line': [[], [], [], [], []],\n",
       "   'score': 0,\n",
       "   'floor': []}],\n",
       " 'activePlayer': 0,\n",
       " 'roundIdx': 0}"
      ]
     },
     "execution_count": 105,
     "metadata": {},
     "output_type": "execute_result"
    }
   ],
   "source": [
    "numPlayer = 4\n",
    "numFactory = logic.NUM_FACTORY_VS_PLAYER[numPlayer]\n",
    "actionSpace = np.zeros([\n",
    "    numPlayer, numFactory, logic.NUM_COLORS, logic.NUM_LINES], \n",
    "    dtype=bool)\n",
    "\n",
    "colors = np.arange(logic.NUM_COLORS) + 1\n",
    "\n",
    "# a player pick a factory\n",
    "activePlayer, factoryIdx, color, line = 0, 1, 3, 2\n",
    "otherColors = state['factory'][factoryIdx].remove(color)\n",
    "actionSpace[:,factoryIdx,color,:] = False \n",
    "actionSpace[activePlayer,:,colors!=color,line] = False\n"
   ]
  },
  {
   "cell_type": "code",
   "execution_count": 20,
   "metadata": {},
   "outputs": [
    {
     "data": {
      "text/plain": [
       "[2]"
      ]
     },
     "execution_count": 20,
     "metadata": {},
     "output_type": "execute_result"
    }
   ],
   "source": [
    "from random import choices \n",
    "\n",
    "choices(range(3), [1,0,2], k=1)"
   ]
  },
  {
   "cell_type": "code",
   "execution_count": 22,
   "metadata": {},
   "outputs": [
    {
     "name": "stdout",
     "output_type": "stream",
     "text": [
      " \n",
      "*** Profile stats marshalled to file '/tmp/tmpw7dhtxxu'.\n",
      "Opening SnakeViz in a new tab...\n",
      "snakeviz web server started on 127.0.0.1:8080; enter Ctrl-C to exit\n",
      "http://127.0.0.1:8080/snakeviz/%2Ftmp%2Ftmpw7dhtxxu\n"
     ]
    },
    {
     "name": "stderr",
     "output_type": "stream",
     "text": [
      "MESA-INTEL: warning: Performance support disabled, consider sysctl dev.i915.perf_stream_paranoid=0\n",
      "\n"
     ]
    },
    {
     "name": "stdout",
     "output_type": "stream",
     "text": [
      "Opening in existing browser session.\n"
     ]
    }
   ],
   "source": [
    "%%snakeviz -t\n",
    "root.grow_while(timeout=10)  # 8317 rolls/10 s\n",
    "# remove np from score_board: 11238 / 10s 3P\n",
    "# root.print()"
   ]
  },
  {
   "cell_type": "code",
   "execution_count": 28,
   "metadata": {},
   "outputs": [
    {
     "name": "stdout",
     "output_type": "stream",
     "text": [
      "The autoreload extension is already loaded. To reload it, use:\n",
      "  %reload_ext autoreload\n",
      "4.88 µs ± 119 ns per loop (mean ± std. dev. of 7 runs, 100,000 loops each)\n"
     ]
    }
   ],
   "source": [
    "%load_ext autoreload\n",
    "%autoreload 2\n",
    "import numpy as np\n",
    "\n",
    "# njit 3.19 us\n",
    "# np 66.5 us\n",
    "# native  3.6 us\n",
    "# grid = np.array(state['player'][1]['grid'])\n",
    "grid = [\n",
    "    [1, 2, 3, 4, 5],\n",
    "    [5, 1, 0, 3, 4],\n",
    "    [0, 5, 1, 2, 3],\n",
    "    [3, 0, 0, 1, 0],\n",
    "    [2, 0, 0, 5, 1]]\n",
    "%timeit logic.score_board(grid)\n",
    "# logic.score_board(grid)\n",
    "\n",
    "# %timeit logic.score_board(state['player'][0]['grid']) \n",
    "# logic.score_board(np.array(state['player'][0]['grid'])) "
   ]
  },
  {
   "cell_type": "code",
   "execution_count": 10,
   "metadata": {},
   "outputs": [
    {
     "ename": "AttributeError",
     "evalue": "'numpy.ndarray' object has no attribute 'index'",
     "output_type": "error",
     "traceback": [
      "\u001b[0;31m---------------------------------------------------------------------------\u001b[0m",
      "\u001b[0;31mAttributeError\u001b[0m                            Traceback (most recent call last)",
      "\u001b[1;32m/home/garamizo/Azul-Board-Game/scratch.ipynb Cell 4\u001b[0m in \u001b[0;36m1\n\u001b[1;32m     <a href='vscode-notebook-cell:/home/garamizo/Azul-Board-Game/scratch.ipynb#W2sZmlsZQ%3D%3D?line=16'>17</a>\u001b[0m     state \u001b[39m=\u001b[39m deepcopy(obs)\n\u001b[1;32m     <a href='vscode-notebook-cell:/home/garamizo/Azul-Board-Game/scratch.ipynb#W2sZmlsZQ%3D%3D?line=17'>18</a>\u001b[0m     logic\u001b[39m.\u001b[39mplay(state, action)\n\u001b[0;32m---> <a href='vscode-notebook-cell:/home/garamizo/Azul-Board-Game/scratch.ipynb#W2sZmlsZQ%3D%3D?line=18'>19</a>\u001b[0m     rewards\u001b[39m.\u001b[39mappend(logic\u001b[39m.\u001b[39;49mget_reward_simple(state))\n\u001b[1;32m     <a href='vscode-notebook-cell:/home/garamizo/Azul-Board-Game/scratch.ipynb#W2sZmlsZQ%3D%3D?line=20'>21</a>\u001b[0m \u001b[39m# ai.negamax(deepcopy(obs), 1, 2, obs['activePlayer']), \\\u001b[39;00m\n\u001b[1;32m     <a href='vscode-notebook-cell:/home/garamizo/Azul-Board-Game/scratch.ipynb#W2sZmlsZQ%3D%3D?line=21'>22</a>\u001b[0m ai\u001b[39m.\u001b[39malphabeta(deepcopy(obs), \u001b[39m1\u001b[39m, \u001b[39m2\u001b[39m, \u001b[39m-\u001b[39mnp\u001b[39m.\u001b[39mInf, np\u001b[39m.\u001b[39mInf, obs[\u001b[39m'\u001b[39m\u001b[39mactivePlayer\u001b[39m\u001b[39m'\u001b[39m]), \\\n\u001b[1;32m     <a href='vscode-notebook-cell:/home/garamizo/Azul-Board-Game/scratch.ipynb#W2sZmlsZQ%3D%3D?line=22'>23</a>\u001b[0m     actions, rewards\n",
      "File \u001b[0;32m~/Azul-Board-Game/azul/logic.py:629\u001b[0m, in \u001b[0;36mget_reward_simple\u001b[0;34m(obs)\u001b[0m\n\u001b[1;32m    627\u001b[0m \u001b[39mif\u001b[39;00m \u001b[39mlen\u001b[39m(line) \u001b[39m==\u001b[39m row\u001b[39m+\u001b[39m\u001b[39m1\u001b[39m:\n\u001b[1;32m    628\u001b[0m     color \u001b[39m=\u001b[39m line[\u001b[39m0\u001b[39m]\n\u001b[0;32m--> 629\u001b[0m     col \u001b[39m=\u001b[39m GRID_PATTERN[row]\u001b[39m.\u001b[39;49mindex(color)\n\u001b[1;32m    630\u001b[0m     p[\u001b[39m'\u001b[39m\u001b[39mgrid\u001b[39m\u001b[39m'\u001b[39m][row][col] \u001b[39m=\u001b[39m color\n\u001b[1;32m    631\u001b[0m     p[\u001b[39m'\u001b[39m\u001b[39mscore\u001b[39m\u001b[39m'\u001b[39m] \u001b[39m+\u001b[39m\u001b[39m=\u001b[39m score_move(p[\u001b[39m'\u001b[39m\u001b[39mgrid\u001b[39m\u001b[39m'\u001b[39m], row, col)\n",
      "\u001b[0;31mAttributeError\u001b[0m: 'numpy.ndarray' object has no attribute 'index'"
     ]
    }
   ],
   "source": [
    "# from azul.ai import get_reward_simple, get_reward, negamax, alphabeta\n",
    "import azul.ai as ai\n",
    "from copy import deepcopy\n",
    "\n",
    "# t = logic.Table()\n",
    "# obs = t.get_observation()\n",
    "obs = logic.reset_round()\n",
    "\n",
    "# ai.negamax(obs, 1, 4, obs['activePlayer']), \\\n",
    "# ai.alphabeta(obs, 1, 4, -np.Inf, np.Inf, obs['activePlayer'])\n",
    "# ai.alphabeta(obs, 1, 4, -np.Inf, np.Inf, obs['activePlayer'])\n",
    "\n",
    "# ai.get_reward_simple(obs)\n",
    "rewards = []\n",
    "actions = logic.get_action_space(obs)\n",
    "for action in actions:\n",
    "    state = deepcopy(obs)\n",
    "    logic.play(state, action)\n",
    "    rewards.append(logic.get_reward_simple(state))\n",
    "\n",
    "# ai.negamax(deepcopy(obs), 1, 2, obs['activePlayer']), \\\n",
    "ai.alphabeta(deepcopy(obs), 1, 2, -np.Inf, np.Inf, obs['activePlayer']), \\\n",
    "    actions, rewards\n",
    "\n",
    "# ai.is_terminal(obs)"
   ]
  },
  {
   "cell_type": "code",
   "execution_count": 96,
   "metadata": {},
   "outputs": [
    {
     "data": {
      "text/plain": [
       "([0, 8],\n",
       " {'factory': [[], [], [], [], []],\n",
       "  'center': [],\n",
       "  'player': [{'grid': [[0, 0, 3, 0, 0],\n",
       "     [0, 0, 0, 0, 4],\n",
       "     [0, 0, 0, 0, 0],\n",
       "     [0, 0, 0, 0, 0],\n",
       "     [0, 0, 0, 0, 0]],\n",
       "    'line': [[], [], [], [], []],\n",
       "    'score': 0,\n",
       "    'floor': []},\n",
       "   {'grid': [[1, 2, 3, 4, 5],\n",
       "     [5, 0, 2, 0, 4],\n",
       "     [0, 0, 0, 0, 0],\n",
       "     [3, 4, 5, 0, 0],\n",
       "     [0, 0, 0, 0, 0]],\n",
       "    'line': [[], [], [1, 1], [], [2, 2]],\n",
       "    'score': 8,\n",
       "    'floor': []}],\n",
       "  'activePlayer': 1,\n",
       "  'roundIdx': 5})"
      ]
     },
     "execution_count": 96,
     "metadata": {},
     "output_type": "execute_result"
    }
   ],
   "source": [
    "# Simulate a full game\n",
    "state = ai.reset_round()\n",
    "\n",
    "agents = [\n",
    "    # lambda state: ai.get_random_action(state),\n",
    "    lambda state: ai.alphabeta(state, 1, 3, -np.Inf, np.Inf, state['activePlayer'])[1],\n",
    "    lambda state: ai.get_random_action(state),\n",
    "]\n",
    "\n",
    "while not ai.is_game_over(state):\n",
    "    while not ai.is_terminal(state):\n",
    "        action = agents[state['activePlayer']](state)\n",
    "        assert ai.is_valid_action(state, action), \"Invalid action\"\n",
    "        ai.play(state, action)\n",
    "\n",
    "    ai.reset_round(state)\n",
    "\n",
    "ai.get_reward(state), state"
   ]
  },
  {
   "cell_type": "code",
   "execution_count": 72,
   "metadata": {},
   "outputs": [
    {
     "data": {
      "text/plain": [
       "{'grid': [[1, 2, 3, 4, 5],\n",
       "  [5, 0, 0, 0, 0],\n",
       "  [0, 5, 0, 2, 0],\n",
       "  [0, 0, 0, 0, 2],\n",
       "  [0, 0, 0, 0, 0]],\n",
       " 'line': [[], [3], [4, 4], [], [4, 4, 4]],\n",
       " 'score': 2,\n",
       " 'floor': [3,\n",
       "  2,\n",
       "  5,\n",
       "  5,\n",
       "  1,\n",
       "  3,\n",
       "  2,\n",
       "  2,\n",
       "  2,\n",
       "  3,\n",
       "  1,\n",
       "  1,\n",
       "  1,\n",
       "  1,\n",
       "  1,\n",
       "  5,\n",
       "  5,\n",
       "  5,\n",
       "  5,\n",
       "  1,\n",
       "  1,\n",
       "  1,\n",
       "  1,\n",
       "  3,\n",
       "  3,\n",
       "  2,\n",
       "  2,\n",
       "  2,\n",
       "  3,\n",
       "  2,\n",
       "  2,\n",
       "  2,\n",
       "  3,\n",
       "  5,\n",
       "  5]}"
      ]
     },
     "execution_count": 72,
     "metadata": {},
     "output_type": "execute_result"
    }
   ],
   "source": [
    "state['player'][1]"
   ]
  },
  {
   "cell_type": "code",
   "execution_count": 67,
   "metadata": {},
   "outputs": [
    {
     "data": {
      "text/plain": [
       "[[], [], [], [], []]"
      ]
     },
     "execution_count": 67,
     "metadata": {},
     "output_type": "execute_result"
    }
   ],
   "source": [
    "np.array([[]] * 5).tolist()"
   ]
  },
  {
   "cell_type": "code",
   "execution_count": 38,
   "metadata": {},
   "outputs": [
    {
     "data": {
      "text/plain": [
       "(1, [4, 1, 2])"
      ]
     },
     "execution_count": 38,
     "metadata": {},
     "output_type": "execute_result"
    }
   ],
   "source": [
    "t = logic.Table()\n",
    "obs = t.get_observation()\n",
    "\n",
    "ai.negamax(deepcopy(obs), 1, 2, obs['activePlayer'])  # 4.6s\n",
    "# ai.alphabeta(deepcopy(obs), 1, 3, -np.Inf, np.Inf, obs['activePlayer'])"
   ]
  },
  {
   "cell_type": "code",
   "execution_count": 40,
   "metadata": {},
   "outputs": [
    {
     "ename": "ImportError",
     "evalue": "cannot import name 'get_heuristics' from 'azul.ai' (/home/garamizo/Azul-Board-Game/azul/ai.py)",
     "output_type": "error",
     "traceback": [
      "\u001b[0;31m---------------------------------------------------------------------------\u001b[0m",
      "\u001b[0;31mImportError\u001b[0m                               Traceback (most recent call last)",
      "\u001b[1;32m/home/garamizo/Azul-Board-Game/scratch.ipynb Cell 4\u001b[0m in \u001b[0;36m1\n\u001b[0;32m----> <a href='vscode-notebook-cell:/home/garamizo/Azul-Board-Game/scratch.ipynb#W2sZmlsZQ%3D%3D?line=0'>1</a>\u001b[0m \u001b[39mfrom\u001b[39;00m \u001b[39mazul\u001b[39;00m\u001b[39m.\u001b[39;00m\u001b[39mai\u001b[39;00m \u001b[39mimport\u001b[39;00m get_heuristics\n\u001b[1;32m      <a href='vscode-notebook-cell:/home/garamizo/Azul-Board-Game/scratch.ipynb#W2sZmlsZQ%3D%3D?line=1'>2</a>\u001b[0m \u001b[39mfrom\u001b[39;00m \u001b[39mcopy\u001b[39;00m \u001b[39mimport\u001b[39;00m deepcopy\n\u001b[1;32m      <a href='vscode-notebook-cell:/home/garamizo/Azul-Board-Game/scratch.ipynb#W2sZmlsZQ%3D%3D?line=3'>4</a>\u001b[0m t \u001b[39m=\u001b[39m azul\u001b[39m.\u001b[39mTable()\n",
      "\u001b[0;31mImportError\u001b[0m: cannot import name 'get_heuristics' from 'azul.ai' (/home/garamizo/Azul-Board-Game/azul/ai.py)"
     ]
    }
   ],
   "source": [
    "from azul.ai import get_heuristics\n",
    "from copy import deepcopy\n",
    "\n",
    "t = azul.Table()\n",
    "rewards = []\n",
    "for reps in range(1):\n",
    "    obs = t.get_observation()\n",
    "\n",
    "    obs['player'][0]['line'][4] = [1]\n",
    "\n",
    "    obs['player'][0]['grid'] = [\n",
    "        [0, 0, 0, 0, 0],\n",
    "        [0, 0, 2, 0, 0],\n",
    "        [0, 0, 1, 0, 0],\n",
    "        [0, 0, 5, 0, 0],\n",
    "        [0, 0, 4, 0, 0]]\n",
    "\n",
    "    obs['player'][1]['grid'] = [\n",
    "        [0, 0, 0, 0, 0],\n",
    "        [0, 0, 0, 0, 0],\n",
    "        [0, 0, 0, 0, 0],\n",
    "        [0, 0, 0, 0, 0],\n",
    "        [0, 0, 0, 0, 0]]\n",
    "\n",
    "    obs['player'][2]['grid'] = [\n",
    "        [0, 0, 3, 0, 0],\n",
    "        [0, 0, 2, 0, 0],\n",
    "        [0, 5, 0, 0, 0],\n",
    "        [0, 0, 5, 0, 0],\n",
    "        [0, 0, 0, 0, 0]]\n",
    "    \n",
    "    rewards.append(get_heuristics(obs))\n",
    "\n",
    "# get_heuristics(obs), obs['player']\n",
    "# min([min([g.count(0) for g in p['grid']]) for p in obs['player']])\n",
    "obs['player']\n",
    "# np.mean(rewards, axis=0), np.std(rewards, axis=0)\n"
   ]
  },
  {
   "cell_type": "code",
   "execution_count": null,
   "metadata": {},
   "outputs": [
    {
     "name": "stdout",
     "output_type": "stream",
     "text": [
      "self.numRolls=26, self.numWins=18, self.state['activePlayer']=1\n",
      "\tAction\t\tUCB\tWRatio\tNumSims\n",
      "\t[-1, 3, -1]\t2.55\t0.000\t1\n",
      "\t[-1, 3, 0]\t3.55\t1.000\t1\n",
      "\t[-1, 3, 4]\t3.55\t1.000\t1\n",
      "\t[-1, 4, 3]\t2.55\t0.000\t1\n",
      "\t[0, 4, 1]\t2.55\t0.000\t1\n",
      "\t[0, 4, 2]\t2.55\t0.000\t1\n",
      "\t[0, 4, 4]\t3.55\t1.000\t1\n",
      "\t[0, 5, 2]\t2.55\t0.000\t1\n",
      "\t[0, 5, 4]\t2.55\t0.000\t1\n",
      "\t[1, 1, 0]\t2.55\t0.000\t1\n",
      "\t[1, 1, 3]\t2.55\t0.000\t1\n",
      "\t[1, 2, -1]\t2.55\t0.000\t1\n",
      "\t[1, 2, 0]\t2.55\t0.000\t1\n",
      "\t[1, 2, 1]\t2.55\t0.000\t1\n",
      "\t[1, 5, -1]\t3.55\t1.000\t1\n",
      "\t[2, 3, 4]\t3.55\t1.000\t1\n",
      "\t[2, 4, 1]\t2.55\t0.000\t1\n",
      "\t[2, 4, 2]\t2.55\t0.000\t1\n",
      "\t[2, 4, 4]\t2.55\t0.000\t1\n",
      "\t[3, 2, 2]\t3.55\t1.000\t1\n",
      "\t[3, 4, 3]\t2.55\t0.000\t1\n",
      "\t[3, 4, 4]\t2.55\t0.000\t1\n",
      "\t[3, 5, 0]\t3.55\t1.000\t1\n",
      "\t[3, 5, 1]\t2.55\t0.000\t1\n",
      "\t[3, 5, 2]\t3.55\t1.000\t1\n",
      "self.numRolls=1468, self.numWins=0, self.state['activePlayer']=0\n",
      "\tAction\t\tUCB\tWRatio\tNumSims\n",
      "\t[0, 3, -1]\t1.41\t0.200\t10\n",
      "\t[0, 3, 0]\t1.44\t0.680\t25\n",
      "\t[0, 3, 1]\t1.39\t0.438\t16\n",
      "\t[0, 3, 2]\t1.40\t0.526\t19\n",
      "\t[0, 3, 3]\t1.40\t0.471\t17\n",
      "\t[0, 3, 4]\t1.40\t0.640\t25\n",
      "\t[0, 4, -1]\t1.44\t0.333\t12\n",
      "\t[0, 4, 0]\t1.40\t0.550\t20\n",
      "\t[0, 4, 1]\t1.40\t0.471\t17\n",
      "\t[0, 4, 2]\t1.39\t0.438\t16\n",
      "\t[0, 4, 3]\t1.40\t0.609\t23\n",
      "\t[0, 4, 4]\t1.38\t0.111\t9\n",
      "\t[0, 5, -1]\t1.40\t0.500\t18\n",
      "\t[0, 5, 0]\t1.39\t0.400\t15\n",
      "\t[0, 5, 1]\t1.41\t0.591\t22\n",
      "\t[0, 5, 2]\t1.41\t0.200\t10\n",
      "\t[0, 5, 3]\t1.40\t0.471\t17\n",
      "\t[0, 5, 4]\t1.40\t0.550\t20\n",
      "\t[1, 1, -1]\t1.44\t0.385\t13\n",
      "\t[1, 1, 0]\t1.44\t0.333\t12\n",
      "\t[1, 1, 1]\t1.38\t0.111\t9\n",
      "\t[1, 1, 2]\t1.40\t0.571\t21\n",
      "\t[1, 1, 3]\t1.40\t0.471\t17\n",
      "\t[1, 1, 4]\t1.40\t0.550\t20\n",
      "\t[1, 2, -1]\t1.40\t0.571\t21\n",
      "\t[1, 2, 0]\t1.44\t0.385\t13\n",
      "\t[1, 2, 1]\t1.44\t0.333\t12\n",
      "\t[1, 2, 2]\t1.39\t0.400\t15\n",
      "\t[1, 2, 3]\t1.40\t0.471\t17\n",
      "\t[1, 2, 4]\t1.40\t0.625\t24\n",
      "\t[1, 5, -1]\t1.40\t0.500\t18\n",
      "\t[1, 5, 0]\t1.40\t0.640\t25\n",
      "\t[1, 5, 1]\t1.40\t0.571\t21\n",
      "\t[1, 5, 2]\t1.40\t0.550\t20\n",
      "\t[1, 5, 3]\t1.40\t0.500\t18\n",
      "\t[1, 5, 4]\t1.39\t0.438\t16\n",
      "\t[2, 3, -1]\t1.39\t0.438\t16\n",
      "\t[2, 3, 0]\t1.40\t0.526\t19\n",
      "\t[2, 3, 1]\t1.44\t0.333\t12\n",
      "\t[2, 3, 2]\t1.44\t0.680\t25\n",
      "\t[2, 3, 3]\t1.40\t0.526\t19\n",
      "\t[2, 3, 4]\t1.40\t0.471\t17\n",
      "\t[2, 4, -1]\t1.44\t0.385\t13\n",
      "\t[2, 4, 0]\t1.40\t0.526\t19\n",
      "\t[2, 4, 1]\t1.44\t0.385\t13\n",
      "\t[2, 4, 2]\t1.44\t0.385\t13\n",
      "\t[2, 4, 3]\t1.40\t0.625\t24\n",
      "\t[2, 4, 4]\t1.40\t0.471\t17\n",
      "\t[3, 2, -1]\t1.40\t0.526\t19\n",
      "\t[3, 2, 0]\t1.40\t0.550\t20\n",
      "\t[3, 2, 1]\t1.39\t0.438\t16\n",
      "\t[3, 2, 2]\t1.40\t0.571\t21\n",
      "\t[3, 2, 3]\t1.39\t0.438\t16\n",
      "\t[3, 2, 4]\t1.40\t0.526\t19\n",
      "\t[3, 4, -1]\t1.40\t0.571\t21\n",
      "\t[3, 4, 0]\t1.39\t0.438\t16\n",
      "\t[3, 4, 1]\t1.44\t0.333\t12\n",
      "\t[3, 4, 2]\t1.44\t0.000\t7\n",
      "\t[3, 4, 3]\t1.40\t0.550\t20\n",
      "\t[3, 4, 4]\t1.44\t0.333\t12\n",
      "\t[3, 5, -1]\t1.40\t0.609\t23\n",
      "\t[3, 5, 0]\t1.40\t0.471\t17\n",
      "\t[3, 5, 1]\t1.40\t0.550\t20\n",
      "\t[3, 5, 2]\t1.40\t0.571\t21\n",
      "\t[3, 5, 3]\t1.40\t0.526\t19\n",
      "\t[3, 5, 4]\t1.40\t0.625\t24\n",
      "\t[4, 2, -1]\t1.40\t0.571\t21\n",
      "\t[4, 2, 0]\t1.40\t0.471\t17\n",
      "\t[4, 2, 1]\t1.42\t0.273\t11\n",
      "\t[4, 2, 2]\t1.39\t0.400\t15\n",
      "\t[4, 2, 3]\t1.40\t0.625\t24\n",
      "\t[4, 2, 4]\t1.44\t0.692\t26\n",
      "\t[4, 3, -1]\t1.44\t0.385\t13\n",
      "\t[4, 3, 0]\t1.40\t0.526\t19\n",
      "\t[4, 3, 1]\t1.40\t0.571\t21\n",
      "\t[4, 3, 2]\t1.39\t0.400\t15\n",
      "\t[4, 3, 3]\t1.42\t0.273\t11\n",
      "\t[4, 3, 4]\t1.45\t0.667\t24\n",
      "\t[4, 4, -1]\t1.45\t0.667\t24\n",
      "\t[4, 4, 0]\t1.44\t0.385\t13\n",
      "\t[4, 4, 1]\t1.40\t0.500\t18\n",
      "\t[4, 4, 2]\t1.38\t0.111\t9\n",
      "\t[4, 4, 3]\t1.40\t0.471\t17\n",
      "\t[4, 4, 4]\t1.40\t0.471\t17\n"
     ]
    }
   ],
   "source": [
    "# %%timeit \n",
    "from azul.ai import get_random_action, get_action_space, play, is_terminal, get_reward, MCTS_node, get_winner\n",
    "from azul.logic import random_move \n",
    "\n",
    "t = azul.Table()\n",
    "obs = t.get_observation()\n",
    "obsOld = deepcopy(obs)\n",
    "\n",
    "root = MCTS_node(obsOld)\n",
    "MCTS_node.grow(root, timeout=1.0)\n",
    "\n",
    "# action = get_random_action(obs)  # 35 us\n",
    "action, _ = MCTS_node.get_best_action(root)\n",
    "\n",
    "play(obs, action)\n",
    "\n",
    "# random_move(obs)  # 19.9 us\n",
    "# get_action_space(obs)\n",
    "# play(obs, action)\n",
    "# action, obs\n",
    "# get_reward(obs)\n",
    "# len(root.action)\n",
    "# root.rollout()\n",
    "\n",
    "# root.print()\n",
    "rootNew = MCTS_node.search_node(root, obs)\n",
    "# obs, obsOld\n",
    "rootNew.print()\n",
    "root.print()"
   ]
  },
  {
   "cell_type": "code",
   "execution_count": null,
   "metadata": {},
   "outputs": [
    {
     "data": {
      "text/plain": [
       "\"{'a': [1, 1, 2], 'b': [2, 1, 1], 'c': [3, 2, 1]}\""
      ]
     },
     "execution_count": 30,
     "metadata": {},
     "output_type": "execute_result"
    }
   ],
   "source": [
    "# == takes 80.2 ns\n",
    "actions = {'a':[1, 1, 2], 'b':[2, 1, 1], 'c':[3, 2, 1]}\n",
    "actions2 = {'a':[1, 1, 2], 'b':[2, 1, 1]}\n",
    "actions2['c'] = [3, 2, 1]\n",
    "\n",
    "# == takes 64 ns\n",
    "# actions = [[1, 1, 2], [2, 1, 1], [3, 2, 1]]\n",
    "# actions2 = [[1, 1, 2], [2, 1, 1]]\n",
    "# actions2.append([3, 2, 1])\n",
    "# b = [1, 2]\n",
    "\n",
    "child = {str(a): None for a in actions}\n",
    "\n",
    "actions == actions2\n",
    "# actions, actions2\n",
    "# b == None\n",
    "str(actions)"
   ]
  },
  {
   "cell_type": "code",
   "execution_count": null,
   "metadata": {},
   "outputs": [
    {
     "name": "stdout",
     "output_type": "stream",
     "text": [
      "The autoreload extension is already loaded. To reload it, use:\n",
      "  %reload_ext autoreload\n",
      "self.numRolls=2638, self.numWins=0, self.state['activePlayer']=0\n",
      "\tAction\t\tUCB\tWRatio\tNumSims\n",
      "\t[0, 1, -1]\t1.24\t0.462\t26\n",
      "\t[0, 1, 0]\t1.23\t0.417\t24\n",
      "\t[0, 1, 1]\t1.22\t0.500\t30\n",
      "\t[0, 1, 2]\t1.23\t0.440\t25\n",
      "\t[0, 1, 3]\t1.23\t0.440\t25\n",
      "\t[0, 1, 4]\t1.23\t0.440\t25\n",
      "\t[0, 2, -1]\t1.25\t0.500\t28\n",
      "\t[0, 2, 0]\t1.25\t0.481\t27\n",
      "\t[0, 2, 1]\t1.24\t0.350\t20\n",
      "\t[0, 2, 2]\t1.24\t0.545\t33\n",
      "\t[0, 2, 3]\t1.24\t0.462\t26\n",
      "\t[0, 2, 4]\t1.24\t0.462\t26\n",
      "\t[0, 3, -1]\t1.24\t0.559\t34\n",
      "\t[0, 3, 0]\t1.25\t0.481\t27\n",
      "\t[0, 3, 1]\t1.24\t0.571\t35\n",
      "\t[0, 3, 2]\t1.24\t0.462\t26\n",
      "\t[0, 3, 3]\t1.23\t0.440\t25\n",
      "\t[0, 3, 4]\t1.25\t0.500\t28\n",
      "\t[0, 5, -1]\t1.25\t0.595\t37\n",
      "\t[0, 5, 0]\t1.23\t0.440\t25\n",
      "\t[0, 5, 1]\t1.23\t0.440\t25\n",
      "\t[0, 5, 2]\t1.22\t0.391\t23\n",
      "\t[0, 5, 3]\t1.22\t0.391\t23\n",
      "\t[0, 5, 4]\t1.25\t0.500\t28\n",
      "\t[1, 3, -1]\t1.24\t0.583\t36\n",
      "\t[1, 3, 0]\t1.23\t0.516\t31\n",
      "\t[1, 3, 1]\t1.25\t0.481\t27\n",
      "\t[1, 3, 2]\t1.23\t0.531\t32\n",
      "\t[1, 3, 3]\t1.23\t0.440\t25\n",
      "\t[1, 3, 4]\t1.24\t0.571\t35\n",
      "\t[1, 4, -1]\t1.25\t0.381\t21\n",
      "\t[1, 4, 0]\t1.25\t0.381\t21\n",
      "\t[1, 4, 1]\t1.25\t0.481\t27\n",
      "\t[1, 4, 2]\t1.23\t0.440\t25\n",
      "\t[1, 4, 3]\t1.23\t0.440\t25\n",
      "\t[1, 4, 4]\t1.25\t0.500\t28\n",
      "\t[1, 5, -1]\t1.24\t0.571\t35\n",
      "\t[1, 5, 0]\t1.23\t0.636\t44\n",
      "\t[1, 5, 1]\t1.25\t0.500\t28\n",
      "\t[1, 5, 2]\t1.24\t0.652\t46\n",
      "\t[1, 5, 3]\t1.23\t0.531\t32\n",
      "\t[1, 5, 4]\t1.24\t0.350\t20\n",
      "\t[2, 4, -1]\t1.25\t0.500\t28\n",
      "\t[2, 4, 0]\t1.24\t0.559\t34\n",
      "\t[2, 4, 1]\t1.24\t0.644\t45\n",
      "\t[2, 4, 2]\t1.25\t0.500\t28\n",
      "\t[2, 4, 3]\t1.20\t0.143\t14\n",
      "\t[2, 4, 4]\t1.24\t0.545\t33\n",
      "\t[2, 5, -1]\t1.25\t0.481\t27\n",
      "\t[2, 5, 0]\t1.23\t0.516\t31\n",
      "\t[2, 5, 1]\t1.26\t0.643\t42\n",
      "\t[2, 5, 2]\t1.23\t0.440\t25\n",
      "\t[2, 5, 3]\t1.24\t0.660\t47\n",
      "\t[2, 5, 4]\t1.23\t0.516\t31\n",
      "\t[3, 2, -1]\t1.25\t0.481\t27\n",
      "\t[3, 2, 0]\t1.23\t0.440\t25\n",
      "\t[3, 2, 1]\t1.25\t0.595\t37\n",
      "\t[3, 2, 2]\t1.25\t0.481\t27\n",
      "\t[3, 2, 3]\t1.22\t0.391\t23\n",
      "\t[3, 2, 4]\t1.25\t0.481\t27\n",
      "\t[3, 3, -1]\t1.25\t0.595\t37\n",
      "\t[3, 3, 0]\t1.25\t0.500\t28\n",
      "\t[3, 3, 1]\t1.24\t0.559\t34\n",
      "\t[3, 3, 2]\t1.24\t0.583\t36\n",
      "\t[3, 3, 3]\t1.22\t0.500\t30\n",
      "\t[3, 3, 4]\t1.25\t0.500\t28\n",
      "\t[3, 4, -1]\t1.23\t0.440\t25\n",
      "\t[3, 4, 0]\t1.25\t0.500\t28\n",
      "\t[3, 4, 1]\t1.24\t0.462\t26\n",
      "\t[3, 4, 2]\t1.24\t0.559\t34\n",
      "\t[3, 4, 3]\t1.24\t0.545\t33\n",
      "\t[3, 4, 4]\t1.24\t0.583\t36\n",
      "\t[4, 1, -1]\t1.24\t0.559\t34\n",
      "\t[4, 1, 0]\t1.24\t0.462\t26\n",
      "\t[4, 1, 1]\t1.25\t0.381\t21\n",
      "\t[4, 1, 2]\t1.25\t0.500\t28\n",
      "\t[4, 1, 3]\t1.24\t0.462\t26\n",
      "\t[4, 1, 4]\t1.25\t0.500\t28\n",
      "\t[4, 3, -1]\t1.23\t0.440\t25\n",
      "\t[4, 3, 0]\t1.23\t0.516\t31\n",
      "\t[4, 3, 1]\t1.23\t0.316\t19\n",
      "\t[4, 3, 2]\t1.24\t0.571\t35\n",
      "\t[4, 3, 3]\t1.24\t0.545\t33\n",
      "\t[4, 3, 4]\t1.25\t0.381\t21\n",
      "\t[4, 5, -1]\t1.24\t0.571\t35\n",
      "\t[4, 5, 0]\t1.23\t0.516\t31\n",
      "\t[4, 5, 1]\t1.23\t0.531\t32\n",
      "\t[4, 5, 2]\t1.25\t0.615\t39\n",
      "\t[4, 5, 3]\t1.24\t0.559\t34\n",
      "\t[4, 5, 4]\t1.23\t0.440\t25\n"
     ]
    }
   ],
   "source": [
    "%load_ext autoreload\n",
    "%autoreload 2\n",
    "\n",
    "from azul.ai import MCTS_node, get_random_action\n",
    "from azul.logic import random_move, Table\n",
    "\n",
    "t = Table()\n",
    "obs = t.get_observation()\n",
    "\n",
    "root = MCTS_node(obs, 0)\n",
    "root.grow()\n",
    "\n",
    "root.print()"
   ]
  },
  {
   "cell_type": "code",
   "execution_count": null,
   "metadata": {},
   "outputs": [
    {
     "name": "stdout",
     "output_type": "stream",
     "text": [
      "not none\n",
      "none\n"
     ]
    }
   ],
   "source": [
    "a = 1 \n",
    "b = None\n",
    "\n",
    "if a is not None:\n",
    "    print('not none')\n",
    "\n",
    "if a is None or b is None:\n",
    "    print('none')"
   ]
  },
  {
   "cell_type": "code",
   "execution_count": null,
   "metadata": {},
   "outputs": [
    {
     "data": {
      "text/plain": [
       "[]"
      ]
     },
     "execution_count": 37,
     "metadata": {},
     "output_type": "execute_result"
    }
   ],
   "source": [
    "grid = np.array([\n",
    "    [0, 2, 3, 4, 5],\n",
    "    [5, 1, 2, 3, 4],\n",
    "    [4, 5, 1, 2, 3],\n",
    "    [3, 4, 5, 1, 2],\n",
    "    [2, 3, 4, 5, 1]])\n",
    "np.sum(grid == 1)\n",
    "\n",
    "discard = [1, 2, 2, 1, 2, 4]\n",
    "# if discard.count(-1) > 0:\n",
    "#     discard.remove(-1)\n",
    "# np.random.permutation(discard)\n",
    "# discard.remove(1)\n",
    "discard.clear()\n",
    "discard"
   ]
  },
  {
   "cell_type": "code",
   "execution_count": null,
   "metadata": {},
   "outputs": [
    {
     "name": "stdout",
     "output_type": "stream",
     "text": [
      "[]\n",
      "[]\n",
      "[]\n",
      "[]\n",
      "[]\n",
      "  []\n",
      "[[], [3], [2], [], [4, 4, 4]]\n",
      "[[1. 2. 3. 4. 5.]\n",
      " [5. 0. 2. 0. 4.]\n",
      " [4. 5. 0. 0. 0.]\n",
      " [3. 4. 0. 1. 0.]\n",
      " [2. 0. 0. 0. 0.]]\n",
      "[]\n",
      "8\n",
      "---\n",
      "[[], [3], [4], [2, 2], []]\n",
      "[[1. 2. 3. 4. 5.]\n",
      " [5. 1. 2. 0. 4.]\n",
      " [0. 5. 1. 2. 3.]\n",
      " [3. 0. 0. 0. 0.]\n",
      " [0. 3. 0. 5. 0.]]\n",
      "[]\n",
      "31\n",
      "---\n",
      "\n",
      "\n"
     ]
    }
   ],
   "source": [
    "np.random.seed(100)\n",
    "t = azul.Table()\n",
    "\n",
    "# t.player[0].grid = np.array([\n",
    "#     [1, 2, 3, 4, 5],\n",
    "#     [0, 1, 0, 3, 4],\n",
    "#     [4, 0, 1, 0, 3],\n",
    "#     [0, 4, 0, 0, 2],\n",
    "#     [0, 3, 4, 0, 0]])\n",
    "\n",
    "# t.step_move(mark=5, factoryIdx=0, playerIdx=0, row=1)\n",
    "# t.step_move(mark=5, factoryIdx=6, playerIdx=0, row=2)\n",
    "# t.step_move(mark=1, factoryIdx=-1, playerIdx=0, row=4)\n",
    "# t.print()\n",
    "# t.player[0].print()\n",
    "obs = t.get_observation()\n",
    "\n",
    "# mark, factoryIdx, row = azul.random_move(0, obs)\n",
    "# mark, factoryIdx, row\n",
    "playerPolicyFcn = [azul.random_move] * 3\n",
    "t.step_round(playerPolicyFcn)\n",
    "# mark, factoryIdx, row = playerPolicyFcn[0](\n",
    "#     0, obs)\n",
    "# len(obs['factory'])\n",
    "t.print()"
   ]
  },
  {
   "cell_type": "code",
   "execution_count": null,
   "metadata": {},
   "outputs": [
    {
     "name": "stdout",
     "output_type": "stream",
     "text": [
      "[]\n",
      "[]\n",
      "[]\n",
      "[]\n",
      "[]\n",
      "  [1, 1, 1]\n",
      "---\n",
      "[[3], [3], [5], [4, 4, 4], [5, 5]]\n",
      "[[0. 0. 0. 0. 0.]\n",
      " [0. 1. 0. 0. 0.]\n",
      " [0. 0. 0. 2. 0.]\n",
      " [0. 0. 0. 0. 0.]\n",
      " [0. 3. 0. 0. 0.]]\n",
      "[-1, 3, 3, 3]\n",
      "4\n",
      "---\n",
      "[[5], [5], [2, 2, 2], [5, 5, 5], [4, 4, 4, 4, 4]]\n",
      "[[0. 0. 0. 0. 0.]\n",
      " [0. 0. 0. 0. 0.]\n",
      " [0. 0. 0. 0. 0.]\n",
      " [0. 0. 0. 0. 0.]\n",
      " [0. 0. 0. 0. 0.]]\n",
      "[5, 5]\n",
      "0\n",
      "---\n"
     ]
    },
    {
     "data": {
      "text/plain": [
       "False"
      ]
     },
     "execution_count": 147,
     "metadata": {},
     "output_type": "execute_result"
    }
   ],
   "source": [
    "t.print()\n",
    "t.player[0].print()\n",
    "t.player[1].print()\n",
    "\n",
    "obs = t.get_observation()\n",
    "azul.valid_move(obs,playerIdx=0, factoryIdx=-1, mark=5, row=1)"
   ]
  }
 ],
 "metadata": {
  "kernelspec": {
   "display_name": "Python 3",
   "language": "python",
   "name": "python3"
  },
  "language_info": {
   "codemirror_mode": {
    "name": "ipython",
    "version": 3
   },
   "file_extension": ".py",
   "mimetype": "text/x-python",
   "name": "python",
   "nbconvert_exporter": "python",
   "pygments_lexer": "ipython3",
   "version": "3.8.10"
  },
  "orig_nbformat": 4
 },
 "nbformat": 4,
 "nbformat_minor": 2
}
