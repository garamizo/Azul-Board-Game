{
 "cells": [
  {
   "cell_type": "code",
   "execution_count": 90,
   "metadata": {},
   "outputs": [
    {
     "name": "stdout",
     "output_type": "stream",
     "text": [
      "Player 0: [2, 2]\n",
      "Player 1: [1, 1]\n",
      "Player 0: [2, 1]\n",
      "Player 1: [2, 0]\n",
      "Player 0: [1, 0]\n",
      "Player 1: [1, 2]\n",
      "Player 0: [0, 2]\n",
      "Player 1: [0, 0]\n",
      "Player 0: [0, 1]\n",
      "activePlayer=1\tnumPlayers=2\tstartingPlayer=0\troundIdx=0\n",
      " 1 | 0 | 0\n",
      "---+---+---\n",
      " 0 | 1 | 1\n",
      "---+---+---\n",
      " 1 | 0 | 0\n",
      "[0, 0]\n"
     ]
    }
   ],
   "source": [
    "# %load_ext autoreload\n",
    "# %autoreload 2\n",
    "import numpy as np\n",
    "import azul.tictactoe as logic \n",
    "import azul.ai as ai\n",
    "from random import choice \n",
    "\n",
    "state = logic.reset_round()\n",
    "# state['grid'] = (np.array([\n",
    "#     [0, 0, 0],\n",
    "#     [0, 0, 0],\n",
    "#     [0, 0, 0]\n",
    "# ]) -1).tolist()\n",
    "# state['activePlayer'] = 2 -1\n",
    "\n",
    "while not logic.is_terminal(state):\n",
    "    # logic.print_state(state)\n",
    "    action = choice(logic.get_action_space(state))\n",
    "    print(f\"Player {state['activePlayer']}: {action}\")\n",
    "    logic.play(state, action)\n",
    "\n",
    "logic.print_state(state)\n",
    "print(logic.get_reward(state))"
   ]
  },
  {
   "cell_type": "code",
   "execution_count": 124,
   "metadata": {},
   "outputs": [
    {
     "name": "stdout",
     "output_type": "stream",
     "text": [
      "activePlayer=1\tnumPlayers=3\tstartingPlayer=0\troundIdx=0\n",
      "   | 1 |   |  \n",
      "---+---+---+---\n",
      "   | 0 | 2 | 2\n",
      "---+---+---+---\n",
      " 0 | 1 | 1 | 2\n",
      "---+---+---+---\n",
      " 0 |   |   | 0\n",
      "self.numRolls=82629, self.numWins=0, self.state['activePlayer']=1\n",
      "\tAction\t\tUCB\tWRatio\tNumSims\n",
      "\t[0, 0]\t0.23\t0.172\t6725\n",
      "\t[0, 2]\t0.23\t0.175\t7541\n",
      "\t[0, 3]\t0.23\t0.208\t47772\n",
      "\t[1, 0]\t0.23\t0.174\t7336\n",
      "\t[3, 1]\t0.23\t0.171\t6531\n",
      "\t[3, 2]\t0.23\t0.172\t6724\n"
     ]
    },
    {
     "data": {
      "text/plain": [
       "([0, 3], 2)"
      ]
     },
     "execution_count": 124,
     "metadata": {},
     "output_type": "execute_result"
    }
   ],
   "source": [
    "state = logic.reset_round()\n",
    "state['grid'] = (np.array([\n",
    "    [0, 2, 0, 0],\n",
    "    [0, 1, 3, 3],\n",
    "    [1, 2, 2, 3],\n",
    "    [1, 0, 0, 1]\n",
    "]) -1).tolist()\n",
    "state['activePlayer'] = 2 - 1\n",
    "\n",
    "root = ai.MCTS_node(state)\n",
    "root.grow(timeout=5)\n",
    "\n",
    "logic.print_state(state)\n",
    "# logic.get_reward(state)\n",
    "# logic.is_terminal(state)\n",
    "# ai.maxn(state, 8, -100)\n",
    "root.print()\n",
    "root.get_best_action()"
   ]
  },
  {
   "cell_type": "code",
   "execution_count": 117,
   "metadata": {},
   "outputs": [
    {
     "data": {
      "text/plain": [
       "[0.3333333333333333, 0.3333333333333333, 0.3333333333333333]"
      ]
     },
     "execution_count": 117,
     "metadata": {},
     "output_type": "execute_result"
    }
   ],
   "source": [
    "state = logic.reset_round()\n",
    "state['grid'] = (np.array([\n",
    "    [0, 2, 0, 0],\n",
    "    [0, 1, 3, 3],\n",
    "    [0, 2, 2, 3],\n",
    "    [1, 0, 0, 0]\n",
    "]) -1).tolist()\n",
    "\n",
    "logic.get_reward(state)"
   ]
  },
  {
   "cell_type": "code",
   "execution_count": 89,
   "metadata": {},
   "outputs": [
    {
     "name": "stdout",
     "output_type": "stream",
     "text": [
      "activePlayer=0\tnumPlayers=3\tstartingPlayer=0\troundIdx=0\n",
      "   |   |   |  \n",
      "---+---+---+---\n",
      "   |   |   |  \n",
      "---+---+---+---\n",
      "   |   |   |  \n"
     ]
    },
    {
     "data": {
      "text/plain": [
       "(0, [0, 0])"
      ]
     },
     "execution_count": 89,
     "metadata": {},
     "output_type": "execute_result"
    }
   ],
   "source": [
    "logic.print_state(state)\n",
    "# logic.get_reward(state)\n",
    "# logic.is_terminal(state)\n",
    "ai.paranoid(state, 7, -np.Inf, np.Inf, state['activePlayer'])"
   ]
  },
  {
   "cell_type": "code",
   "execution_count": 6,
   "metadata": {},
   "outputs": [
    {
     "name": "stdout",
     "output_type": "stream",
     "text": [
      "activePlayer=1\tnumPlayers=2\tstartingPlayer=0\troundIdx=0\n",
      " 1 | 0 | 0\n",
      "---+---+---\n",
      " 0 | 1 | 1\n",
      "---+---+---\n",
      " 1 | 0 | 0\n"
     ]
    }
   ],
   "source": [
    "logic.print_state(state)"
   ]
  },
  {
   "cell_type": "code",
   "execution_count": 137,
   "metadata": {},
   "outputs": [
    {
     "data": {
      "text/plain": [
       "(1, 2)"
      ]
     },
     "execution_count": 137,
     "metadata": {},
     "output_type": "execute_result"
    }
   ],
   "source": [
    "row, col = [int(s) for s in inp.split(\" \")]\n",
    "\n",
    "row, col"
   ]
  },
  {
   "cell_type": "code",
   "execution_count": 9,
   "metadata": {},
   "outputs": [
    {
     "data": {
      "text/plain": [
       "([2, 0],\n",
       " {'factory': [[], [], [], [], []],\n",
       "  'center': [],\n",
       "  'player': [{'grid': [[1, 2, 3, 4, 5],\n",
       "     [5, 0, 0, 3, 0],\n",
       "     [0, 0, 1, 0, 3],\n",
       "     [0, 4, 0, 0, 0],\n",
       "     [0, 3, 0, 0, 0]],\n",
       "    'line': [[], [2], [], [1, 1], [1, 1, 1]],\n",
       "    'score': 0,\n",
       "    'floor': []},\n",
       "   {'grid': [[1, 2, 0, 4, 5],\n",
       "     [0, 1, 0, 3, 4],\n",
       "     [0, 0, 0, 2, 0],\n",
       "     [0, 4, 0, 0, 0],\n",
       "     [0, 0, 0, 5, 0]],\n",
       "    'line': [[], [], [1], [3, 3, 3], []],\n",
       "    'score': 0,\n",
       "    'floor': []}],\n",
       "  'activePlayer': 0,\n",
       "  'roundIdx': 6})"
      ]
     },
     "execution_count": 9,
     "metadata": {},
     "output_type": "execute_result"
    }
   ],
   "source": [
    "# Simulate a full game\n",
    "import azul.ai as ai\n",
    "from random import seed \n",
    "import azul.logic as logic\n",
    "from copy import deepcopy\n",
    "# seed(1)\n",
    "\n",
    "t = logic.Table()\n",
    "state = t.get_observation()\n",
    "\n",
    "agents = [\n",
    "    lambda state: ai.get_random_action(state),\n",
    "    # lambda state: ai.alphabeta(state, 1, 4, -np.Inf, np.Inf, state['activePlayer'])[1],\n",
    "    # lambda state: ai.negamax(state, 1, 4, state['activePlayer'])[1],\n",
    "    lambda state: ai.get_random_action(state),\n",
    "]\n",
    "\n",
    "info = []\n",
    "while not (t.is_round_over() and t.is_game_over()):\n",
    "    state = deepcopy(t.get_observation())\n",
    "    action = agents[state['activePlayer']](state)\n",
    "    \n",
    "    factoryIdx, color, row = action\n",
    "    assert t.is_valid(color, factoryIdx, row), \"Invalid action\"\n",
    "    info.append({'state': deepcopy(state), 'action': action})\n",
    "    t.step_move(color, factoryIdx, row)\n",
    "\n",
    "# ai.get_reward(state), state\n",
    "ai.get_reward(t.get_observation()), t.get_observation()"
   ]
  },
  {
   "cell_type": "code",
   "execution_count": 8,
   "metadata": {},
   "outputs": [
    {
     "data": {
      "text/plain": [
       "{'state': {'factory': [[3, 4, 1, 2],\n",
       "   [2, 2, 2, 4],\n",
       "   [2, 4, 1, 5],\n",
       "   [4, 1, 1, 3],\n",
       "   [4, 1, 5, 4]],\n",
       "  'center': [-1],\n",
       "  'player': [{'grid': [[0, 0, 0, 0, 0],\n",
       "     [0, 0, 0, 0, 0],\n",
       "     [0, 0, 0, 0, 0],\n",
       "     [0, 0, 0, 0, 0],\n",
       "     [0, 0, 0, 0, 0]],\n",
       "    'line': [[], [], [], [], []],\n",
       "    'score': 0,\n",
       "    'floor': []},\n",
       "   {'grid': [[0, 0, 0, 0, 0],\n",
       "     [0, 0, 0, 0, 0],\n",
       "     [0, 0, 0, 0, 0],\n",
       "     [0, 0, 0, 0, 0],\n",
       "     [0, 0, 0, 0, 0]],\n",
       "    'line': [[], [], [], [], []],\n",
       "    'score': 0,\n",
       "    'floor': []}],\n",
       "  'activePlayer': 0,\n",
       "  'roundIdx': 0},\n",
       " 'action': [4, 4, 2]}"
      ]
     },
     "execution_count": 8,
     "metadata": {},
     "output_type": "execute_result"
    }
   ],
   "source": [
    "info[0]"
   ]
  },
  {
   "cell_type": "code",
   "execution_count": 10,
   "metadata": {},
   "outputs": [
    {
     "ename": "AttributeError",
     "evalue": "'numpy.ndarray' object has no attribute 'index'",
     "output_type": "error",
     "traceback": [
      "\u001b[0;31m---------------------------------------------------------------------------\u001b[0m",
      "\u001b[0;31mAttributeError\u001b[0m                            Traceback (most recent call last)",
      "\u001b[1;32m/home/garamizo/Azul-Board-Game/scratch.ipynb Cell 4\u001b[0m in \u001b[0;36m1\n\u001b[1;32m     <a href='vscode-notebook-cell:/home/garamizo/Azul-Board-Game/scratch.ipynb#W2sZmlsZQ%3D%3D?line=16'>17</a>\u001b[0m     state \u001b[39m=\u001b[39m deepcopy(obs)\n\u001b[1;32m     <a href='vscode-notebook-cell:/home/garamizo/Azul-Board-Game/scratch.ipynb#W2sZmlsZQ%3D%3D?line=17'>18</a>\u001b[0m     logic\u001b[39m.\u001b[39mplay(state, action)\n\u001b[0;32m---> <a href='vscode-notebook-cell:/home/garamizo/Azul-Board-Game/scratch.ipynb#W2sZmlsZQ%3D%3D?line=18'>19</a>\u001b[0m     rewards\u001b[39m.\u001b[39mappend(logic\u001b[39m.\u001b[39;49mget_reward_simple(state))\n\u001b[1;32m     <a href='vscode-notebook-cell:/home/garamizo/Azul-Board-Game/scratch.ipynb#W2sZmlsZQ%3D%3D?line=20'>21</a>\u001b[0m \u001b[39m# ai.negamax(deepcopy(obs), 1, 2, obs['activePlayer']), \\\u001b[39;00m\n\u001b[1;32m     <a href='vscode-notebook-cell:/home/garamizo/Azul-Board-Game/scratch.ipynb#W2sZmlsZQ%3D%3D?line=21'>22</a>\u001b[0m ai\u001b[39m.\u001b[39malphabeta(deepcopy(obs), \u001b[39m1\u001b[39m, \u001b[39m2\u001b[39m, \u001b[39m-\u001b[39mnp\u001b[39m.\u001b[39mInf, np\u001b[39m.\u001b[39mInf, obs[\u001b[39m'\u001b[39m\u001b[39mactivePlayer\u001b[39m\u001b[39m'\u001b[39m]), \\\n\u001b[1;32m     <a href='vscode-notebook-cell:/home/garamizo/Azul-Board-Game/scratch.ipynb#W2sZmlsZQ%3D%3D?line=22'>23</a>\u001b[0m     actions, rewards\n",
      "File \u001b[0;32m~/Azul-Board-Game/azul/logic.py:629\u001b[0m, in \u001b[0;36mget_reward_simple\u001b[0;34m(obs)\u001b[0m\n\u001b[1;32m    627\u001b[0m \u001b[39mif\u001b[39;00m \u001b[39mlen\u001b[39m(line) \u001b[39m==\u001b[39m row\u001b[39m+\u001b[39m\u001b[39m1\u001b[39m:\n\u001b[1;32m    628\u001b[0m     color \u001b[39m=\u001b[39m line[\u001b[39m0\u001b[39m]\n\u001b[0;32m--> 629\u001b[0m     col \u001b[39m=\u001b[39m GRID_PATTERN[row]\u001b[39m.\u001b[39;49mindex(color)\n\u001b[1;32m    630\u001b[0m     p[\u001b[39m'\u001b[39m\u001b[39mgrid\u001b[39m\u001b[39m'\u001b[39m][row][col] \u001b[39m=\u001b[39m color\n\u001b[1;32m    631\u001b[0m     p[\u001b[39m'\u001b[39m\u001b[39mscore\u001b[39m\u001b[39m'\u001b[39m] \u001b[39m+\u001b[39m\u001b[39m=\u001b[39m score_move(p[\u001b[39m'\u001b[39m\u001b[39mgrid\u001b[39m\u001b[39m'\u001b[39m], row, col)\n",
      "\u001b[0;31mAttributeError\u001b[0m: 'numpy.ndarray' object has no attribute 'index'"
     ]
    }
   ],
   "source": [
    "# from azul.ai import get_reward_simple, get_reward, negamax, alphabeta\n",
    "import azul.ai as ai\n",
    "from copy import deepcopy\n",
    "\n",
    "# t = logic.Table()\n",
    "# obs = t.get_observation()\n",
    "obs = logic.reset_round()\n",
    "\n",
    "# ai.negamax(obs, 1, 4, obs['activePlayer']), \\\n",
    "# ai.alphabeta(obs, 1, 4, -np.Inf, np.Inf, obs['activePlayer'])\n",
    "# ai.alphabeta(obs, 1, 4, -np.Inf, np.Inf, obs['activePlayer'])\n",
    "\n",
    "# ai.get_reward_simple(obs)\n",
    "rewards = []\n",
    "actions = logic.get_action_space(obs)\n",
    "for action in actions:\n",
    "    state = deepcopy(obs)\n",
    "    logic.play(state, action)\n",
    "    rewards.append(logic.get_reward_simple(state))\n",
    "\n",
    "# ai.negamax(deepcopy(obs), 1, 2, obs['activePlayer']), \\\n",
    "ai.alphabeta(deepcopy(obs), 1, 2, -np.Inf, np.Inf, obs['activePlayer']), \\\n",
    "    actions, rewards\n",
    "\n",
    "# ai.is_terminal(obs)"
   ]
  },
  {
   "cell_type": "code",
   "execution_count": 96,
   "metadata": {},
   "outputs": [
    {
     "data": {
      "text/plain": [
       "([0, 8],\n",
       " {'factory': [[], [], [], [], []],\n",
       "  'center': [],\n",
       "  'player': [{'grid': [[0, 0, 3, 0, 0],\n",
       "     [0, 0, 0, 0, 4],\n",
       "     [0, 0, 0, 0, 0],\n",
       "     [0, 0, 0, 0, 0],\n",
       "     [0, 0, 0, 0, 0]],\n",
       "    'line': [[], [], [], [], []],\n",
       "    'score': 0,\n",
       "    'floor': []},\n",
       "   {'grid': [[1, 2, 3, 4, 5],\n",
       "     [5, 0, 2, 0, 4],\n",
       "     [0, 0, 0, 0, 0],\n",
       "     [3, 4, 5, 0, 0],\n",
       "     [0, 0, 0, 0, 0]],\n",
       "    'line': [[], [], [1, 1], [], [2, 2]],\n",
       "    'score': 8,\n",
       "    'floor': []}],\n",
       "  'activePlayer': 1,\n",
       "  'roundIdx': 5})"
      ]
     },
     "execution_count": 96,
     "metadata": {},
     "output_type": "execute_result"
    }
   ],
   "source": [
    "# Simulate a full game\n",
    "state = ai.reset_round()\n",
    "\n",
    "agents = [\n",
    "    # lambda state: ai.get_random_action(state),\n",
    "    lambda state: ai.alphabeta(state, 1, 3, -np.Inf, np.Inf, state['activePlayer'])[1],\n",
    "    lambda state: ai.get_random_action(state),\n",
    "]\n",
    "\n",
    "while not ai.is_game_over(state):\n",
    "    while not ai.is_terminal(state):\n",
    "        action = agents[state['activePlayer']](state)\n",
    "        assert ai.is_valid_action(state, action), \"Invalid action\"\n",
    "        ai.play(state, action)\n",
    "\n",
    "    ai.reset_round(state)\n",
    "\n",
    "ai.get_reward(state), state"
   ]
  },
  {
   "cell_type": "code",
   "execution_count": 72,
   "metadata": {},
   "outputs": [
    {
     "data": {
      "text/plain": [
       "{'grid': [[1, 2, 3, 4, 5],\n",
       "  [5, 0, 0, 0, 0],\n",
       "  [0, 5, 0, 2, 0],\n",
       "  [0, 0, 0, 0, 2],\n",
       "  [0, 0, 0, 0, 0]],\n",
       " 'line': [[], [3], [4, 4], [], [4, 4, 4]],\n",
       " 'score': 2,\n",
       " 'floor': [3,\n",
       "  2,\n",
       "  5,\n",
       "  5,\n",
       "  1,\n",
       "  3,\n",
       "  2,\n",
       "  2,\n",
       "  2,\n",
       "  3,\n",
       "  1,\n",
       "  1,\n",
       "  1,\n",
       "  1,\n",
       "  1,\n",
       "  5,\n",
       "  5,\n",
       "  5,\n",
       "  5,\n",
       "  1,\n",
       "  1,\n",
       "  1,\n",
       "  1,\n",
       "  3,\n",
       "  3,\n",
       "  2,\n",
       "  2,\n",
       "  2,\n",
       "  3,\n",
       "  2,\n",
       "  2,\n",
       "  2,\n",
       "  3,\n",
       "  5,\n",
       "  5]}"
      ]
     },
     "execution_count": 72,
     "metadata": {},
     "output_type": "execute_result"
    }
   ],
   "source": [
    "state['player'][1]"
   ]
  },
  {
   "cell_type": "code",
   "execution_count": 67,
   "metadata": {},
   "outputs": [
    {
     "data": {
      "text/plain": [
       "[[], [], [], [], []]"
      ]
     },
     "execution_count": 67,
     "metadata": {},
     "output_type": "execute_result"
    }
   ],
   "source": [
    "np.array([[]] * 5).tolist()"
   ]
  },
  {
   "cell_type": "code",
   "execution_count": 38,
   "metadata": {},
   "outputs": [
    {
     "data": {
      "text/plain": [
       "(1, [4, 1, 2])"
      ]
     },
     "execution_count": 38,
     "metadata": {},
     "output_type": "execute_result"
    }
   ],
   "source": [
    "t = logic.Table()\n",
    "obs = t.get_observation()\n",
    "\n",
    "ai.negamax(deepcopy(obs), 1, 2, obs['activePlayer'])  # 4.6s\n",
    "# ai.alphabeta(deepcopy(obs), 1, 3, -np.Inf, np.Inf, obs['activePlayer'])"
   ]
  },
  {
   "cell_type": "code",
   "execution_count": 40,
   "metadata": {},
   "outputs": [
    {
     "ename": "ImportError",
     "evalue": "cannot import name 'get_heuristics' from 'azul.ai' (/home/garamizo/Azul-Board-Game/azul/ai.py)",
     "output_type": "error",
     "traceback": [
      "\u001b[0;31m---------------------------------------------------------------------------\u001b[0m",
      "\u001b[0;31mImportError\u001b[0m                               Traceback (most recent call last)",
      "\u001b[1;32m/home/garamizo/Azul-Board-Game/scratch.ipynb Cell 4\u001b[0m in \u001b[0;36m1\n\u001b[0;32m----> <a href='vscode-notebook-cell:/home/garamizo/Azul-Board-Game/scratch.ipynb#W2sZmlsZQ%3D%3D?line=0'>1</a>\u001b[0m \u001b[39mfrom\u001b[39;00m \u001b[39mazul\u001b[39;00m\u001b[39m.\u001b[39;00m\u001b[39mai\u001b[39;00m \u001b[39mimport\u001b[39;00m get_heuristics\n\u001b[1;32m      <a href='vscode-notebook-cell:/home/garamizo/Azul-Board-Game/scratch.ipynb#W2sZmlsZQ%3D%3D?line=1'>2</a>\u001b[0m \u001b[39mfrom\u001b[39;00m \u001b[39mcopy\u001b[39;00m \u001b[39mimport\u001b[39;00m deepcopy\n\u001b[1;32m      <a href='vscode-notebook-cell:/home/garamizo/Azul-Board-Game/scratch.ipynb#W2sZmlsZQ%3D%3D?line=3'>4</a>\u001b[0m t \u001b[39m=\u001b[39m azul\u001b[39m.\u001b[39mTable()\n",
      "\u001b[0;31mImportError\u001b[0m: cannot import name 'get_heuristics' from 'azul.ai' (/home/garamizo/Azul-Board-Game/azul/ai.py)"
     ]
    }
   ],
   "source": [
    "from azul.ai import get_heuristics\n",
    "from copy import deepcopy\n",
    "\n",
    "t = azul.Table()\n",
    "rewards = []\n",
    "for reps in range(1):\n",
    "    obs = t.get_observation()\n",
    "\n",
    "    obs['player'][0]['line'][4] = [1]\n",
    "\n",
    "    obs['player'][0]['grid'] = [\n",
    "        [0, 0, 0, 0, 0],\n",
    "        [0, 0, 2, 0, 0],\n",
    "        [0, 0, 1, 0, 0],\n",
    "        [0, 0, 5, 0, 0],\n",
    "        [0, 0, 4, 0, 0]]\n",
    "\n",
    "    obs['player'][1]['grid'] = [\n",
    "        [0, 0, 0, 0, 0],\n",
    "        [0, 0, 0, 0, 0],\n",
    "        [0, 0, 0, 0, 0],\n",
    "        [0, 0, 0, 0, 0],\n",
    "        [0, 0, 0, 0, 0]]\n",
    "\n",
    "    obs['player'][2]['grid'] = [\n",
    "        [0, 0, 3, 0, 0],\n",
    "        [0, 0, 2, 0, 0],\n",
    "        [0, 5, 0, 0, 0],\n",
    "        [0, 0, 5, 0, 0],\n",
    "        [0, 0, 0, 0, 0]]\n",
    "    \n",
    "    rewards.append(get_heuristics(obs))\n",
    "\n",
    "# get_heuristics(obs), obs['player']\n",
    "# min([min([g.count(0) for g in p['grid']]) for p in obs['player']])\n",
    "obs['player']\n",
    "# np.mean(rewards, axis=0), np.std(rewards, axis=0)\n"
   ]
  },
  {
   "cell_type": "code",
   "execution_count": null,
   "metadata": {},
   "outputs": [
    {
     "name": "stdout",
     "output_type": "stream",
     "text": [
      "self.numRolls=26, self.numWins=18, self.state['activePlayer']=1\n",
      "\tAction\t\tUCB\tWRatio\tNumSims\n",
      "\t[-1, 3, -1]\t2.55\t0.000\t1\n",
      "\t[-1, 3, 0]\t3.55\t1.000\t1\n",
      "\t[-1, 3, 4]\t3.55\t1.000\t1\n",
      "\t[-1, 4, 3]\t2.55\t0.000\t1\n",
      "\t[0, 4, 1]\t2.55\t0.000\t1\n",
      "\t[0, 4, 2]\t2.55\t0.000\t1\n",
      "\t[0, 4, 4]\t3.55\t1.000\t1\n",
      "\t[0, 5, 2]\t2.55\t0.000\t1\n",
      "\t[0, 5, 4]\t2.55\t0.000\t1\n",
      "\t[1, 1, 0]\t2.55\t0.000\t1\n",
      "\t[1, 1, 3]\t2.55\t0.000\t1\n",
      "\t[1, 2, -1]\t2.55\t0.000\t1\n",
      "\t[1, 2, 0]\t2.55\t0.000\t1\n",
      "\t[1, 2, 1]\t2.55\t0.000\t1\n",
      "\t[1, 5, -1]\t3.55\t1.000\t1\n",
      "\t[2, 3, 4]\t3.55\t1.000\t1\n",
      "\t[2, 4, 1]\t2.55\t0.000\t1\n",
      "\t[2, 4, 2]\t2.55\t0.000\t1\n",
      "\t[2, 4, 4]\t2.55\t0.000\t1\n",
      "\t[3, 2, 2]\t3.55\t1.000\t1\n",
      "\t[3, 4, 3]\t2.55\t0.000\t1\n",
      "\t[3, 4, 4]\t2.55\t0.000\t1\n",
      "\t[3, 5, 0]\t3.55\t1.000\t1\n",
      "\t[3, 5, 1]\t2.55\t0.000\t1\n",
      "\t[3, 5, 2]\t3.55\t1.000\t1\n",
      "self.numRolls=1468, self.numWins=0, self.state['activePlayer']=0\n",
      "\tAction\t\tUCB\tWRatio\tNumSims\n",
      "\t[0, 3, -1]\t1.41\t0.200\t10\n",
      "\t[0, 3, 0]\t1.44\t0.680\t25\n",
      "\t[0, 3, 1]\t1.39\t0.438\t16\n",
      "\t[0, 3, 2]\t1.40\t0.526\t19\n",
      "\t[0, 3, 3]\t1.40\t0.471\t17\n",
      "\t[0, 3, 4]\t1.40\t0.640\t25\n",
      "\t[0, 4, -1]\t1.44\t0.333\t12\n",
      "\t[0, 4, 0]\t1.40\t0.550\t20\n",
      "\t[0, 4, 1]\t1.40\t0.471\t17\n",
      "\t[0, 4, 2]\t1.39\t0.438\t16\n",
      "\t[0, 4, 3]\t1.40\t0.609\t23\n",
      "\t[0, 4, 4]\t1.38\t0.111\t9\n",
      "\t[0, 5, -1]\t1.40\t0.500\t18\n",
      "\t[0, 5, 0]\t1.39\t0.400\t15\n",
      "\t[0, 5, 1]\t1.41\t0.591\t22\n",
      "\t[0, 5, 2]\t1.41\t0.200\t10\n",
      "\t[0, 5, 3]\t1.40\t0.471\t17\n",
      "\t[0, 5, 4]\t1.40\t0.550\t20\n",
      "\t[1, 1, -1]\t1.44\t0.385\t13\n",
      "\t[1, 1, 0]\t1.44\t0.333\t12\n",
      "\t[1, 1, 1]\t1.38\t0.111\t9\n",
      "\t[1, 1, 2]\t1.40\t0.571\t21\n",
      "\t[1, 1, 3]\t1.40\t0.471\t17\n",
      "\t[1, 1, 4]\t1.40\t0.550\t20\n",
      "\t[1, 2, -1]\t1.40\t0.571\t21\n",
      "\t[1, 2, 0]\t1.44\t0.385\t13\n",
      "\t[1, 2, 1]\t1.44\t0.333\t12\n",
      "\t[1, 2, 2]\t1.39\t0.400\t15\n",
      "\t[1, 2, 3]\t1.40\t0.471\t17\n",
      "\t[1, 2, 4]\t1.40\t0.625\t24\n",
      "\t[1, 5, -1]\t1.40\t0.500\t18\n",
      "\t[1, 5, 0]\t1.40\t0.640\t25\n",
      "\t[1, 5, 1]\t1.40\t0.571\t21\n",
      "\t[1, 5, 2]\t1.40\t0.550\t20\n",
      "\t[1, 5, 3]\t1.40\t0.500\t18\n",
      "\t[1, 5, 4]\t1.39\t0.438\t16\n",
      "\t[2, 3, -1]\t1.39\t0.438\t16\n",
      "\t[2, 3, 0]\t1.40\t0.526\t19\n",
      "\t[2, 3, 1]\t1.44\t0.333\t12\n",
      "\t[2, 3, 2]\t1.44\t0.680\t25\n",
      "\t[2, 3, 3]\t1.40\t0.526\t19\n",
      "\t[2, 3, 4]\t1.40\t0.471\t17\n",
      "\t[2, 4, -1]\t1.44\t0.385\t13\n",
      "\t[2, 4, 0]\t1.40\t0.526\t19\n",
      "\t[2, 4, 1]\t1.44\t0.385\t13\n",
      "\t[2, 4, 2]\t1.44\t0.385\t13\n",
      "\t[2, 4, 3]\t1.40\t0.625\t24\n",
      "\t[2, 4, 4]\t1.40\t0.471\t17\n",
      "\t[3, 2, -1]\t1.40\t0.526\t19\n",
      "\t[3, 2, 0]\t1.40\t0.550\t20\n",
      "\t[3, 2, 1]\t1.39\t0.438\t16\n",
      "\t[3, 2, 2]\t1.40\t0.571\t21\n",
      "\t[3, 2, 3]\t1.39\t0.438\t16\n",
      "\t[3, 2, 4]\t1.40\t0.526\t19\n",
      "\t[3, 4, -1]\t1.40\t0.571\t21\n",
      "\t[3, 4, 0]\t1.39\t0.438\t16\n",
      "\t[3, 4, 1]\t1.44\t0.333\t12\n",
      "\t[3, 4, 2]\t1.44\t0.000\t7\n",
      "\t[3, 4, 3]\t1.40\t0.550\t20\n",
      "\t[3, 4, 4]\t1.44\t0.333\t12\n",
      "\t[3, 5, -1]\t1.40\t0.609\t23\n",
      "\t[3, 5, 0]\t1.40\t0.471\t17\n",
      "\t[3, 5, 1]\t1.40\t0.550\t20\n",
      "\t[3, 5, 2]\t1.40\t0.571\t21\n",
      "\t[3, 5, 3]\t1.40\t0.526\t19\n",
      "\t[3, 5, 4]\t1.40\t0.625\t24\n",
      "\t[4, 2, -1]\t1.40\t0.571\t21\n",
      "\t[4, 2, 0]\t1.40\t0.471\t17\n",
      "\t[4, 2, 1]\t1.42\t0.273\t11\n",
      "\t[4, 2, 2]\t1.39\t0.400\t15\n",
      "\t[4, 2, 3]\t1.40\t0.625\t24\n",
      "\t[4, 2, 4]\t1.44\t0.692\t26\n",
      "\t[4, 3, -1]\t1.44\t0.385\t13\n",
      "\t[4, 3, 0]\t1.40\t0.526\t19\n",
      "\t[4, 3, 1]\t1.40\t0.571\t21\n",
      "\t[4, 3, 2]\t1.39\t0.400\t15\n",
      "\t[4, 3, 3]\t1.42\t0.273\t11\n",
      "\t[4, 3, 4]\t1.45\t0.667\t24\n",
      "\t[4, 4, -1]\t1.45\t0.667\t24\n",
      "\t[4, 4, 0]\t1.44\t0.385\t13\n",
      "\t[4, 4, 1]\t1.40\t0.500\t18\n",
      "\t[4, 4, 2]\t1.38\t0.111\t9\n",
      "\t[4, 4, 3]\t1.40\t0.471\t17\n",
      "\t[4, 4, 4]\t1.40\t0.471\t17\n"
     ]
    }
   ],
   "source": [
    "# %%timeit \n",
    "from azul.ai import get_random_action, get_action_space, play, is_terminal, get_reward, MCTS_node, get_winner\n",
    "from azul.logic import random_move \n",
    "\n",
    "t = azul.Table()\n",
    "obs = t.get_observation()\n",
    "obsOld = deepcopy(obs)\n",
    "\n",
    "root = MCTS_node(obsOld)\n",
    "MCTS_node.grow(root, timeout=1.0)\n",
    "\n",
    "# action = get_random_action(obs)  # 35 us\n",
    "action, _ = MCTS_node.get_best_action(root)\n",
    "\n",
    "play(obs, action)\n",
    "\n",
    "# random_move(obs)  # 19.9 us\n",
    "# get_action_space(obs)\n",
    "# play(obs, action)\n",
    "# action, obs\n",
    "# get_reward(obs)\n",
    "# len(root.action)\n",
    "# root.rollout()\n",
    "\n",
    "# root.print()\n",
    "rootNew = MCTS_node.search_node(root, obs)\n",
    "# obs, obsOld\n",
    "rootNew.print()\n",
    "root.print()"
   ]
  },
  {
   "cell_type": "code",
   "execution_count": null,
   "metadata": {},
   "outputs": [
    {
     "data": {
      "text/plain": [
       "\"{'a': [1, 1, 2], 'b': [2, 1, 1], 'c': [3, 2, 1]}\""
      ]
     },
     "execution_count": 30,
     "metadata": {},
     "output_type": "execute_result"
    }
   ],
   "source": [
    "# == takes 80.2 ns\n",
    "actions = {'a':[1, 1, 2], 'b':[2, 1, 1], 'c':[3, 2, 1]}\n",
    "actions2 = {'a':[1, 1, 2], 'b':[2, 1, 1]}\n",
    "actions2['c'] = [3, 2, 1]\n",
    "\n",
    "# == takes 64 ns\n",
    "# actions = [[1, 1, 2], [2, 1, 1], [3, 2, 1]]\n",
    "# actions2 = [[1, 1, 2], [2, 1, 1]]\n",
    "# actions2.append([3, 2, 1])\n",
    "# b = [1, 2]\n",
    "\n",
    "child = {str(a): None for a in actions}\n",
    "\n",
    "actions == actions2\n",
    "# actions, actions2\n",
    "# b == None\n",
    "str(actions)"
   ]
  },
  {
   "cell_type": "code",
   "execution_count": null,
   "metadata": {},
   "outputs": [
    {
     "name": "stdout",
     "output_type": "stream",
     "text": [
      "The autoreload extension is already loaded. To reload it, use:\n",
      "  %reload_ext autoreload\n",
      "self.numRolls=2638, self.numWins=0, self.state['activePlayer']=0\n",
      "\tAction\t\tUCB\tWRatio\tNumSims\n",
      "\t[0, 1, -1]\t1.24\t0.462\t26\n",
      "\t[0, 1, 0]\t1.23\t0.417\t24\n",
      "\t[0, 1, 1]\t1.22\t0.500\t30\n",
      "\t[0, 1, 2]\t1.23\t0.440\t25\n",
      "\t[0, 1, 3]\t1.23\t0.440\t25\n",
      "\t[0, 1, 4]\t1.23\t0.440\t25\n",
      "\t[0, 2, -1]\t1.25\t0.500\t28\n",
      "\t[0, 2, 0]\t1.25\t0.481\t27\n",
      "\t[0, 2, 1]\t1.24\t0.350\t20\n",
      "\t[0, 2, 2]\t1.24\t0.545\t33\n",
      "\t[0, 2, 3]\t1.24\t0.462\t26\n",
      "\t[0, 2, 4]\t1.24\t0.462\t26\n",
      "\t[0, 3, -1]\t1.24\t0.559\t34\n",
      "\t[0, 3, 0]\t1.25\t0.481\t27\n",
      "\t[0, 3, 1]\t1.24\t0.571\t35\n",
      "\t[0, 3, 2]\t1.24\t0.462\t26\n",
      "\t[0, 3, 3]\t1.23\t0.440\t25\n",
      "\t[0, 3, 4]\t1.25\t0.500\t28\n",
      "\t[0, 5, -1]\t1.25\t0.595\t37\n",
      "\t[0, 5, 0]\t1.23\t0.440\t25\n",
      "\t[0, 5, 1]\t1.23\t0.440\t25\n",
      "\t[0, 5, 2]\t1.22\t0.391\t23\n",
      "\t[0, 5, 3]\t1.22\t0.391\t23\n",
      "\t[0, 5, 4]\t1.25\t0.500\t28\n",
      "\t[1, 3, -1]\t1.24\t0.583\t36\n",
      "\t[1, 3, 0]\t1.23\t0.516\t31\n",
      "\t[1, 3, 1]\t1.25\t0.481\t27\n",
      "\t[1, 3, 2]\t1.23\t0.531\t32\n",
      "\t[1, 3, 3]\t1.23\t0.440\t25\n",
      "\t[1, 3, 4]\t1.24\t0.571\t35\n",
      "\t[1, 4, -1]\t1.25\t0.381\t21\n",
      "\t[1, 4, 0]\t1.25\t0.381\t21\n",
      "\t[1, 4, 1]\t1.25\t0.481\t27\n",
      "\t[1, 4, 2]\t1.23\t0.440\t25\n",
      "\t[1, 4, 3]\t1.23\t0.440\t25\n",
      "\t[1, 4, 4]\t1.25\t0.500\t28\n",
      "\t[1, 5, -1]\t1.24\t0.571\t35\n",
      "\t[1, 5, 0]\t1.23\t0.636\t44\n",
      "\t[1, 5, 1]\t1.25\t0.500\t28\n",
      "\t[1, 5, 2]\t1.24\t0.652\t46\n",
      "\t[1, 5, 3]\t1.23\t0.531\t32\n",
      "\t[1, 5, 4]\t1.24\t0.350\t20\n",
      "\t[2, 4, -1]\t1.25\t0.500\t28\n",
      "\t[2, 4, 0]\t1.24\t0.559\t34\n",
      "\t[2, 4, 1]\t1.24\t0.644\t45\n",
      "\t[2, 4, 2]\t1.25\t0.500\t28\n",
      "\t[2, 4, 3]\t1.20\t0.143\t14\n",
      "\t[2, 4, 4]\t1.24\t0.545\t33\n",
      "\t[2, 5, -1]\t1.25\t0.481\t27\n",
      "\t[2, 5, 0]\t1.23\t0.516\t31\n",
      "\t[2, 5, 1]\t1.26\t0.643\t42\n",
      "\t[2, 5, 2]\t1.23\t0.440\t25\n",
      "\t[2, 5, 3]\t1.24\t0.660\t47\n",
      "\t[2, 5, 4]\t1.23\t0.516\t31\n",
      "\t[3, 2, -1]\t1.25\t0.481\t27\n",
      "\t[3, 2, 0]\t1.23\t0.440\t25\n",
      "\t[3, 2, 1]\t1.25\t0.595\t37\n",
      "\t[3, 2, 2]\t1.25\t0.481\t27\n",
      "\t[3, 2, 3]\t1.22\t0.391\t23\n",
      "\t[3, 2, 4]\t1.25\t0.481\t27\n",
      "\t[3, 3, -1]\t1.25\t0.595\t37\n",
      "\t[3, 3, 0]\t1.25\t0.500\t28\n",
      "\t[3, 3, 1]\t1.24\t0.559\t34\n",
      "\t[3, 3, 2]\t1.24\t0.583\t36\n",
      "\t[3, 3, 3]\t1.22\t0.500\t30\n",
      "\t[3, 3, 4]\t1.25\t0.500\t28\n",
      "\t[3, 4, -1]\t1.23\t0.440\t25\n",
      "\t[3, 4, 0]\t1.25\t0.500\t28\n",
      "\t[3, 4, 1]\t1.24\t0.462\t26\n",
      "\t[3, 4, 2]\t1.24\t0.559\t34\n",
      "\t[3, 4, 3]\t1.24\t0.545\t33\n",
      "\t[3, 4, 4]\t1.24\t0.583\t36\n",
      "\t[4, 1, -1]\t1.24\t0.559\t34\n",
      "\t[4, 1, 0]\t1.24\t0.462\t26\n",
      "\t[4, 1, 1]\t1.25\t0.381\t21\n",
      "\t[4, 1, 2]\t1.25\t0.500\t28\n",
      "\t[4, 1, 3]\t1.24\t0.462\t26\n",
      "\t[4, 1, 4]\t1.25\t0.500\t28\n",
      "\t[4, 3, -1]\t1.23\t0.440\t25\n",
      "\t[4, 3, 0]\t1.23\t0.516\t31\n",
      "\t[4, 3, 1]\t1.23\t0.316\t19\n",
      "\t[4, 3, 2]\t1.24\t0.571\t35\n",
      "\t[4, 3, 3]\t1.24\t0.545\t33\n",
      "\t[4, 3, 4]\t1.25\t0.381\t21\n",
      "\t[4, 5, -1]\t1.24\t0.571\t35\n",
      "\t[4, 5, 0]\t1.23\t0.516\t31\n",
      "\t[4, 5, 1]\t1.23\t0.531\t32\n",
      "\t[4, 5, 2]\t1.25\t0.615\t39\n",
      "\t[4, 5, 3]\t1.24\t0.559\t34\n",
      "\t[4, 5, 4]\t1.23\t0.440\t25\n"
     ]
    }
   ],
   "source": [
    "%load_ext autoreload\n",
    "%autoreload 2\n",
    "\n",
    "from azul.ai import MCTS_node, get_random_action\n",
    "from azul.logic import random_move, Table\n",
    "\n",
    "t = Table()\n",
    "obs = t.get_observation()\n",
    "\n",
    "root = MCTS_node(obs, 0)\n",
    "root.grow()\n",
    "\n",
    "root.print()"
   ]
  },
  {
   "cell_type": "code",
   "execution_count": null,
   "metadata": {},
   "outputs": [
    {
     "name": "stdout",
     "output_type": "stream",
     "text": [
      "not none\n",
      "none\n"
     ]
    }
   ],
   "source": [
    "a = 1 \n",
    "b = None\n",
    "\n",
    "if a is not None:\n",
    "    print('not none')\n",
    "\n",
    "if a is None or b is None:\n",
    "    print('none')"
   ]
  },
  {
   "cell_type": "code",
   "execution_count": null,
   "metadata": {},
   "outputs": [
    {
     "data": {
      "text/plain": [
       "[]"
      ]
     },
     "execution_count": 37,
     "metadata": {},
     "output_type": "execute_result"
    }
   ],
   "source": [
    "grid = np.array([\n",
    "    [0, 2, 3, 4, 5],\n",
    "    [5, 1, 2, 3, 4],\n",
    "    [4, 5, 1, 2, 3],\n",
    "    [3, 4, 5, 1, 2],\n",
    "    [2, 3, 4, 5, 1]])\n",
    "np.sum(grid == 1)\n",
    "\n",
    "discard = [1, 2, 2, 1, 2, 4]\n",
    "# if discard.count(-1) > 0:\n",
    "#     discard.remove(-1)\n",
    "# np.random.permutation(discard)\n",
    "# discard.remove(1)\n",
    "discard.clear()\n",
    "discard"
   ]
  },
  {
   "cell_type": "code",
   "execution_count": null,
   "metadata": {},
   "outputs": [
    {
     "name": "stdout",
     "output_type": "stream",
     "text": [
      "[]\n",
      "[]\n",
      "[]\n",
      "[]\n",
      "[]\n",
      "  []\n",
      "[[], [3], [2], [], [4, 4, 4]]\n",
      "[[1. 2. 3. 4. 5.]\n",
      " [5. 0. 2. 0. 4.]\n",
      " [4. 5. 0. 0. 0.]\n",
      " [3. 4. 0. 1. 0.]\n",
      " [2. 0. 0. 0. 0.]]\n",
      "[]\n",
      "8\n",
      "---\n",
      "[[], [3], [4], [2, 2], []]\n",
      "[[1. 2. 3. 4. 5.]\n",
      " [5. 1. 2. 0. 4.]\n",
      " [0. 5. 1. 2. 3.]\n",
      " [3. 0. 0. 0. 0.]\n",
      " [0. 3. 0. 5. 0.]]\n",
      "[]\n",
      "31\n",
      "---\n",
      "\n",
      "\n"
     ]
    }
   ],
   "source": [
    "np.random.seed(100)\n",
    "t = azul.Table()\n",
    "\n",
    "# t.player[0].grid = np.array([\n",
    "#     [1, 2, 3, 4, 5],\n",
    "#     [0, 1, 0, 3, 4],\n",
    "#     [4, 0, 1, 0, 3],\n",
    "#     [0, 4, 0, 0, 2],\n",
    "#     [0, 3, 4, 0, 0]])\n",
    "\n",
    "# t.step_move(mark=5, factoryIdx=0, playerIdx=0, row=1)\n",
    "# t.step_move(mark=5, factoryIdx=6, playerIdx=0, row=2)\n",
    "# t.step_move(mark=1, factoryIdx=-1, playerIdx=0, row=4)\n",
    "# t.print()\n",
    "# t.player[0].print()\n",
    "obs = t.get_observation()\n",
    "\n",
    "# mark, factoryIdx, row = azul.random_move(0, obs)\n",
    "# mark, factoryIdx, row\n",
    "playerPolicyFcn = [azul.random_move] * 3\n",
    "t.step_round(playerPolicyFcn)\n",
    "# mark, factoryIdx, row = playerPolicyFcn[0](\n",
    "#     0, obs)\n",
    "# len(obs['factory'])\n",
    "t.print()"
   ]
  },
  {
   "cell_type": "code",
   "execution_count": null,
   "metadata": {},
   "outputs": [
    {
     "name": "stdout",
     "output_type": "stream",
     "text": [
      "[]\n",
      "[]\n",
      "[]\n",
      "[]\n",
      "[]\n",
      "  [1, 1, 1]\n",
      "---\n",
      "[[3], [3], [5], [4, 4, 4], [5, 5]]\n",
      "[[0. 0. 0. 0. 0.]\n",
      " [0. 1. 0. 0. 0.]\n",
      " [0. 0. 0. 2. 0.]\n",
      " [0. 0. 0. 0. 0.]\n",
      " [0. 3. 0. 0. 0.]]\n",
      "[-1, 3, 3, 3]\n",
      "4\n",
      "---\n",
      "[[5], [5], [2, 2, 2], [5, 5, 5], [4, 4, 4, 4, 4]]\n",
      "[[0. 0. 0. 0. 0.]\n",
      " [0. 0. 0. 0. 0.]\n",
      " [0. 0. 0. 0. 0.]\n",
      " [0. 0. 0. 0. 0.]\n",
      " [0. 0. 0. 0. 0.]]\n",
      "[5, 5]\n",
      "0\n",
      "---\n"
     ]
    },
    {
     "data": {
      "text/plain": [
       "False"
      ]
     },
     "execution_count": 147,
     "metadata": {},
     "output_type": "execute_result"
    }
   ],
   "source": [
    "t.print()\n",
    "t.player[0].print()\n",
    "t.player[1].print()\n",
    "\n",
    "obs = t.get_observation()\n",
    "azul.valid_move(obs,playerIdx=0, factoryIdx=-1, mark=5, row=1)"
   ]
  }
 ],
 "metadata": {
  "kernelspec": {
   "display_name": "Python 3",
   "language": "python",
   "name": "python3"
  },
  "language_info": {
   "codemirror_mode": {
    "name": "ipython",
    "version": 3
   },
   "file_extension": ".py",
   "mimetype": "text/x-python",
   "name": "python",
   "nbconvert_exporter": "python",
   "pygments_lexer": "ipython3",
   "version": "3.8.10"
  },
  "orig_nbformat": 4
 },
 "nbformat": 4,
 "nbformat_minor": 2
}
