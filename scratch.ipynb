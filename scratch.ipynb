{
 "cells": [
  {
   "cell_type": "code",
   "execution_count": 2,
   "metadata": {},
   "outputs": [],
   "source": [
    "# %load_ext autoreload\n",
    "# %autoreload 2\n",
    "\n",
    "import numpy as np\n",
    "import azul.logic as azul\n",
    "\n",
    "bag = np.tile(np.arange(1, 6), 2)\n",
    "\n",
    "p = azul.Board()\n",
    "p.grid = np.array([\n",
    "    [1, 2, 3, 0, 5],\n",
    "    [0, 1, 0, 3, 4],\n",
    "    [4, 0, 1, 0, 3],\n",
    "    [0, 4, 0, 0, 2],\n",
    "    [0, 3, 4, 0, 0]])\n",
    "p.line[0] = [4]\n",
    "p.line[2] = [5, 5, 5]\n",
    "p.line[3] = [3, 3]\n",
    "\n",
    "p.step_move(mark=1, numMark=3, row=4, isFirst=True)\n",
    "# p.step_move(1, 5, 4, False)\n",
    "# p.step_move(2, 2, -1, False)\n",
    "\n",
    "# p.print()\n",
    "# discard = p.step_round()\n",
    "# p.print()\n",
    "# print(\"Final Score: \", p.score_board())\n",
    "# discard"
   ]
  },
  {
   "cell_type": "code",
   "execution_count": 11,
   "metadata": {},
   "outputs": [
    {
     "name": "stdout",
     "output_type": "stream",
     "text": [
      "not none\n",
      "none\n"
     ]
    }
   ],
   "source": [
    "a = 1 \n",
    "b = None\n",
    "\n",
    "if a is not None:\n",
    "    print('not none')\n",
    "\n",
    "if a is None or b is None:\n",
    "    print('none')"
   ]
  },
  {
   "cell_type": "code",
   "execution_count": 37,
   "metadata": {},
   "outputs": [
    {
     "data": {
      "text/plain": [
       "[]"
      ]
     },
     "execution_count": 37,
     "metadata": {},
     "output_type": "execute_result"
    }
   ],
   "source": [
    "grid = np.array([\n",
    "    [0, 2, 3, 4, 5],\n",
    "    [5, 1, 2, 3, 4],\n",
    "    [4, 5, 1, 2, 3],\n",
    "    [3, 4, 5, 1, 2],\n",
    "    [2, 3, 4, 5, 1]])\n",
    "np.sum(grid == 1)\n",
    "\n",
    "discard = [1, 2, 2, 1, 2, 4]\n",
    "# if discard.count(-1) > 0:\n",
    "#     discard.remove(-1)\n",
    "# np.random.permutation(discard)\n",
    "# discard.remove(1)\n",
    "discard.clear()\n",
    "discard"
   ]
  },
  {
   "cell_type": "code",
   "execution_count": 157,
   "metadata": {},
   "outputs": [
    {
     "name": "stdout",
     "output_type": "stream",
     "text": [
      "[]\n",
      "[]\n",
      "[]\n",
      "[]\n",
      "[]\n",
      "  []\n",
      "[[], [3], [2], [], [4, 4, 4]]\n",
      "[[1. 2. 3. 4. 5.]\n",
      " [5. 0. 2. 0. 4.]\n",
      " [4. 5. 0. 0. 0.]\n",
      " [3. 4. 0. 1. 0.]\n",
      " [2. 0. 0. 0. 0.]]\n",
      "[]\n",
      "8\n",
      "---\n",
      "[[], [3], [4], [2, 2], []]\n",
      "[[1. 2. 3. 4. 5.]\n",
      " [5. 1. 2. 0. 4.]\n",
      " [0. 5. 1. 2. 3.]\n",
      " [3. 0. 0. 0. 0.]\n",
      " [0. 3. 0. 5. 0.]]\n",
      "[]\n",
      "31\n",
      "---\n",
      "\n",
      "\n"
     ]
    }
   ],
   "source": [
    "np.random.seed(100)\n",
    "t = azul.Table()\n",
    "\n",
    "# t.player[0].grid = np.array([\n",
    "#     [1, 2, 3, 4, 5],\n",
    "#     [0, 1, 0, 3, 4],\n",
    "#     [4, 0, 1, 0, 3],\n",
    "#     [0, 4, 0, 0, 2],\n",
    "#     [0, 3, 4, 0, 0]])\n",
    "\n",
    "# t.step_move(mark=5, factoryIdx=0, playerIdx=0, row=1)\n",
    "# t.step_move(mark=5, factoryIdx=6, playerIdx=0, row=2)\n",
    "# t.step_move(mark=1, factoryIdx=-1, playerIdx=0, row=4)\n",
    "# t.print()\n",
    "# t.player[0].print()\n",
    "obs = t.get_observation()\n",
    "\n",
    "# mark, factoryIdx, row = azul.random_move(0, obs)\n",
    "# mark, factoryIdx, row\n",
    "playerPolicyFcn = [azul.random_move] * 3\n",
    "t.step_round(playerPolicyFcn)\n",
    "# mark, factoryIdx, row = playerPolicyFcn[0](\n",
    "#     0, obs)\n",
    "# len(obs['factory'])\n",
    "t.print()"
   ]
  },
  {
   "cell_type": "code",
   "execution_count": 147,
   "metadata": {},
   "outputs": [
    {
     "name": "stdout",
     "output_type": "stream",
     "text": [
      "[]\n",
      "[]\n",
      "[]\n",
      "[]\n",
      "[]\n",
      "  [1, 1, 1]\n",
      "---\n",
      "[[3], [3], [5], [4, 4, 4], [5, 5]]\n",
      "[[0. 0. 0. 0. 0.]\n",
      " [0. 1. 0. 0. 0.]\n",
      " [0. 0. 0. 2. 0.]\n",
      " [0. 0. 0. 0. 0.]\n",
      " [0. 3. 0. 0. 0.]]\n",
      "[-1, 3, 3, 3]\n",
      "4\n",
      "---\n",
      "[[5], [5], [2, 2, 2], [5, 5, 5], [4, 4, 4, 4, 4]]\n",
      "[[0. 0. 0. 0. 0.]\n",
      " [0. 0. 0. 0. 0.]\n",
      " [0. 0. 0. 0. 0.]\n",
      " [0. 0. 0. 0. 0.]\n",
      " [0. 0. 0. 0. 0.]]\n",
      "[5, 5]\n",
      "0\n",
      "---\n"
     ]
    },
    {
     "data": {
      "text/plain": [
       "False"
      ]
     },
     "execution_count": 147,
     "metadata": {},
     "output_type": "execute_result"
    }
   ],
   "source": [
    "t.print()\n",
    "t.player[0].print()\n",
    "t.player[1].print()\n",
    "\n",
    "obs = t.get_observation()\n",
    "azul.valid_move(obs,playerIdx=0, factoryIdx=-1, mark=5, row=1)"
   ]
  }
 ],
 "metadata": {
  "kernelspec": {
   "display_name": "Python 3",
   "language": "python",
   "name": "python3"
  },
  "language_info": {
   "codemirror_mode": {
    "name": "ipython",
    "version": 3
   },
   "file_extension": ".py",
   "mimetype": "text/x-python",
   "name": "python",
   "nbconvert_exporter": "python",
   "pygments_lexer": "ipython3",
   "version": "3.8.10"
  },
  "orig_nbformat": 4
 },
 "nbformat": 4,
 "nbformat_minor": 2
}
